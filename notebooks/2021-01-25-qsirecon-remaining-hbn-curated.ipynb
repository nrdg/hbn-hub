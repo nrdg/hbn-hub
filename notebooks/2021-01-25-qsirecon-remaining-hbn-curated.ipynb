{
 "cells": [
  {
   "cell_type": "code",
   "execution_count": 1,
   "metadata": {},
   "outputs": [
    {
     "name": "stderr",
     "output_type": "stream",
     "text": [
      "/Users/richford/miniconda3/envs/cloudknot_qsiprep/lib/python3.7/site-packages/dask/config.py:168: YAMLLoadWarning: calling yaml.load() without Loader=... is deprecated, as the default Loader is unsafe. Please read https://msg.pyyaml.org/load for full details.\n",
      "  data = yaml.load(f.read()) or {}\n",
      "/Users/richford/miniconda3/envs/cloudknot_qsiprep/lib/python3.7/site-packages/dask/dataframe/utils.py:13: FutureWarning: pandas.util.testing is deprecated. Use the functions in the public API at pandas.testing instead.\n",
      "  import pandas.util.testing as tm\n",
      "INFO:botocore.credentials:Found credentials in shared credentials file: ~/.aws/credentials\n",
      "INFO:botocore.credentials:Found credentials in shared credentials file: ~/.aws/credentials\n",
      "INFO:botocore.credentials:Found credentials in shared credentials file: ~/.aws/credentials\n",
      "INFO:botocore.credentials:Found credentials in shared credentials file: ~/.aws/credentials\n",
      "INFO:botocore.credentials:Found credentials in shared credentials file: ~/.aws/credentials\n",
      "INFO:botocore.credentials:Found credentials in shared credentials file: ~/.aws/credentials\n",
      "INFO:botocore.credentials:Found credentials in shared credentials file: ~/.aws/credentials\n"
     ]
    }
   ],
   "source": [
    "import AFQ.data as afqd\n",
    "import cloudknot as ck\n",
    "import importlib\n",
    "import itertools\n",
    "import os\n",
    "import s3fs\n",
    "import bids"
   ]
  },
  {
   "cell_type": "code",
   "execution_count": 2,
   "metadata": {},
   "outputs": [],
   "source": [
    "ck.set_region('us-west-2')"
   ]
  },
  {
   "cell_type": "markdown",
   "metadata": {},
   "source": [
    "## Define the preprocessing function"
   ]
  },
  {
   "cell_type": "code",
   "execution_count": 3,
   "metadata": {},
   "outputs": [],
   "source": [
    "def recon_hbn_subject(subject):\n",
    "    import AFQ.data as afqd\n",
    "    import os\n",
    "    import json\n",
    "    import subprocess\n",
    "    from s3fs import S3FileSystem\n",
    "    \n",
    "    msmt_recon = {\n",
    "      \"name\": \"mrtrix_multishell_msmt_1M\",\n",
    "      \"space\": \"T1w\",\n",
    "      \"atlases\": [\n",
    "        \"schaefer100x7\",\n",
    "        \"schaefer100x17\",\n",
    "        \"schaefer200x7\",\n",
    "        \"schaefer200x17\",\n",
    "        \"schaefer400x7\",\n",
    "        \"schaefer400x17\",\n",
    "        \"brainnetome246\",\n",
    "        \"aicha384\",\n",
    "        \"gordon333\",\n",
    "        \"aal116\",\n",
    "        \"power264\"\n",
    "      ],\n",
    "      \"anatomical\": [\n",
    "        \"mrtrix_5tt\"\n",
    "      ],\n",
    "      \"nodes\": [\n",
    "        {\n",
    "          \"name\": \"msmt_csd\",\n",
    "          \"software\": \"MRTrix3\",\n",
    "          \"action\": \"csd\",\n",
    "          \"output_suffix\": \"msmtcsd\",\n",
    "          \"input\": \"qsiprep\",\n",
    "          \"parameters\": {\n",
    "            \"mtnormalize\": True,\n",
    "            \"response\": {\n",
    "              \"algorithm\": \"dhollander\"\n",
    "            },\n",
    "            \"fod\": {\n",
    "              \"algorithm\": \"msmt_csd\",\n",
    "              \"max_sh\": [\n",
    "                4,\n",
    "                8,\n",
    "                8\n",
    "              ]\n",
    "            }\n",
    "          }\n",
    "        },\n",
    "        {\n",
    "          \"name\": \"track_ifod2\",\n",
    "          \"software\": \"MRTrix3\",\n",
    "          \"action\": \"tractography\",\n",
    "          \"output_suffix\": \"ifod2\",\n",
    "          \"input\": \"msmt_csd\",\n",
    "          \"parameters\": {\n",
    "            \"use_5tt\": True,\n",
    "            \"use_sift2\": True,\n",
    "            \"tckgen\": {\n",
    "              \"algorithm\": \"iFOD2\",\n",
    "              \"select\": 2000000,\n",
    "              \"max_length\": 250,\n",
    "              \"min_length\": 30,\n",
    "              \"power\": 0.33,\n",
    "              \"crop_at_gmwmi\": True,\n",
    "              \"backtrack\": True\n",
    "            },\n",
    "            \"sift2\": {}\n",
    "          }\n",
    "        },\n",
    "        {\n",
    "          \"name\": \"mrtrix_conn\",\n",
    "          \"software\": \"MRTrix3\",\n",
    "          \"action\": \"connectivity\",\n",
    "          \"output_suffix\": \"msmtconnectome\",\n",
    "          \"input\": \"track_ifod2\",\n",
    "          \"parameters\": {\n",
    "            \"tck2connectome\": [\n",
    "              {\n",
    "                \"zero_diagonal\": False,\n",
    "                \"search_radius\": 2,\n",
    "                \"scale_invnodevol\": True,\n",
    "                \"symmetric\": True,\n",
    "                \"use_sift_weights\": True,\n",
    "                \"stat_edge\": \"sum\",\n",
    "                \"measure\": \"sift_invnodevol_radius2_count\"\n",
    "              },\n",
    "              {\n",
    "                \"zero_diagonal\": False,\n",
    "                \"search_radius\": 2,\n",
    "                \"scale_invnodevol\": False,\n",
    "                \"symmetric\": True,\n",
    "                \"length_scale\": \"length\",\n",
    "                \"use_sift_weights\": False,\n",
    "                \"stat_edge\": \"mean\",\n",
    "                \"measure\": \"radius2_meanlength\"\n",
    "              },\n",
    "              {\n",
    "                \"zero_diagonal\": False,\n",
    "                \"search_radius\": 2,\n",
    "                \"scale_invnodevol\": False,\n",
    "                \"symmetric\": True,\n",
    "                \"use_sift_weights\": False,\n",
    "                \"stat_edge\": \"sum\",\n",
    "                \"measure\": \"radius2_count\"\n",
    "              },\n",
    "              {\n",
    "                \"zero_diagonal\": False,\n",
    "                \"search_radius\": 2,\n",
    "                \"scale_invnodevol\": False,\n",
    "                \"symmetric\": True,\n",
    "                \"use_sift_weights\": True,\n",
    "                \"stat_edge\": \"sum\",\n",
    "                \"measure\": \"sift_radius2_count\"\n",
    "              }\n",
    "            ]\n",
    "          }\n",
    "        }\n",
    "      ]\n",
    "    }\n",
    "\n",
    "    with open(\"./msmt.json\", \"w\") as fp:\n",
    "        json.dump(msmt_recon, fp)\n",
    "        \n",
    "    local_bids_folder = \"hbn\"\n",
    "    local_output_folder = \"hbn-recon-output\"\n",
    "\n",
    "    input_bucket = \"fcp-indi\"\n",
    "    input_s3_prefix = \"data/Projects/HBN/BIDS_curated\"\n",
    "\n",
    "    output_bucket = \"hbn-afq\"\n",
    "    output_s3_prefix = \"\"\n",
    "    \n",
    "    # select subjects from qsiprep\n",
    "    study = afqd.S3BIDSStudy(\n",
    "        \"hbn-curated\",\n",
    "        input_bucket,\n",
    "        input_s3_prefix,\n",
    "        subjects=[subject],\n",
    "        random_seed=42\n",
    "    )\n",
    "\n",
    "    study.download(local_bids_folder, include_derivs=True)\n",
    "                \n",
    "    response = subprocess.run(\n",
    "        [\n",
    "            \"qsiprep\",\n",
    "            os.path.abspath(os.path.join(\".\", local_bids_folder)),\n",
    "            os.path.abspath(os.path.join(\".\", local_output_folder)),\n",
    "            \"participant\",\n",
    "            \"--recon-input\",\n",
    "            os.path.abspath(os.path.join(\".\", local_bids_folder, \"derivatives\", \"qsiprep\")),\n",
    "            \"--recon-spec\",\n",
    "            os.path.abspath(\"./msmt.json\"),\n",
    "            \"--recon_only\",\n",
    "            \"--participant_label\",\n",
    "            subject,\n",
    "            \"--nthreads\",\n",
    "            \"8\",\n",
    "            \"--omp-nthreads\",\n",
    "            \"8\",\n",
    "            \"-w\",\n",
    "            \"./scratch\",\n",
    "        ],\n",
    "        check=True\n",
    "    )\n",
    "    \n",
    "    output_dir = \"/\".join([output_bucket, \"derivatives\"])\n",
    "\n",
    "    print(\"putting \" + subject + \" in s3 bucket \" + output_dir + \"/\")\n",
    "    fs = S3FileSystem()\n",
    "    fs.put(os.path.abspath(os.path.join(\".\", local_output_folder)),\n",
    "           output_dir + \"/\",\n",
    "           recursive=True)\n",
    "\n",
    "    print(\"successfully put \" + subject + \" in s3 bucket \" + output_dir + \"/\")\n",
    "\n",
    "    return {subject: True}"
   ]
  },
  {
   "cell_type": "markdown",
   "metadata": {},
   "source": [
    "# Create a cloudknot DockerImage instance\n",
    "\n",
    "where the base_image is a customized version of qsiprep\n",
    "This version of the qsiprep docker image is located on AWS ECR with image URI:\n",
    "[454929164628.dkr.ecr.us-east-1.amazonaws.com/qsiprep:nrdg](https://console.aws.amazon.com/ecr/repositories/qsiprep/?region=us-east-1)"
   ]
  },
  {
   "cell_type": "code",
   "execution_count": 4,
   "metadata": {},
   "outputs": [],
   "source": [
    "recover_from_config = True"
   ]
  },
  {
   "cell_type": "code",
   "execution_count": 5,
   "metadata": {},
   "outputs": [
    {
     "name": "stderr",
     "output_type": "stream",
     "text": [
      "WARNING:cloudknot.dockerimage:Warning, some imports not found by pipreqs. You will need to edit the Dockerfile by hand, e.g by installing from github. You need to install the following packages ['AFQ']\n"
     ]
    }
   ],
   "source": [
    "if not recover_from_config:\n",
    "    di = ck.DockerImage(\n",
    "        name=\"recon-hbn-subject-0\",\n",
    "        func=recon_hbn_subject,\n",
    "        base_image=\"qsiprep:direct-0.12.1\",\n",
    "        github_installs=[\"https://github.com/yeatmanlab/pyAFQ.git@master\",\n",
    "                         \"https://github.com/matplotlib/matplotlib.git@v2.2.3\",\n",
    "                         \"https://github.com/bids-standard/pybids.git@0.9.3\"],\n",
    "        overwrite=True,\n",
    "    )\n",
    "else:\n",
    "    di = ck.DockerImage(\"recon-hbn-subject-0\")"
   ]
  },
  {
   "cell_type": "markdown",
   "metadata": {},
   "source": [
    "## Build, tag, and push the Docker image"
   ]
  },
  {
   "cell_type": "code",
   "execution_count": 6,
   "metadata": {},
   "outputs": [],
   "source": [
    "if not recover_from_config:\n",
    "    di.build(tags=[\"hbn-recon-20210126\"])"
   ]
  },
  {
   "cell_type": "code",
   "execution_count": 7,
   "metadata": {},
   "outputs": [],
   "source": [
    "if not recover_from_config:\n",
    "    repo = ck.aws.DockerRepo(name=ck.get_ecr_repo())"
   ]
  },
  {
   "cell_type": "code",
   "execution_count": 8,
   "metadata": {},
   "outputs": [],
   "source": [
    "if not recover_from_config:\n",
    "    # The very first time you run this, this command could take\n",
    "    # a few hours because the docker image is large\n",
    "    di.push(repo=repo)"
   ]
  },
  {
   "cell_type": "code",
   "execution_count": 9,
   "metadata": {},
   "outputs": [
    {
     "name": "stdout",
     "output_type": "stream",
     "text": [
      "454929164628.dkr.ecr.us-west-2.amazonaws.com/cloudknot:hbn-recon-20210126\n"
     ]
    }
   ],
   "source": [
    "print(di.repo_uri)"
   ]
  },
  {
   "cell_type": "markdown",
   "metadata": {},
   "source": [
    "## Create the Knot"
   ]
  },
  {
   "cell_type": "code",
   "execution_count": 10,
   "metadata": {},
   "outputs": [
    {
     "name": "stderr",
     "output_type": "stream",
     "text": [
      "WARNING:cloudknot.dockerimage:Warning, some imports not found by pipreqs. You will need to edit the Dockerfile by hand, e.g by installing from github. You need to install the following packages ['AFQ']\n"
     ]
    }
   ],
   "source": [
    "# Specify bid_percentage to use Spot instances\n",
    "# And make sure the volume size is large enough. 55-60 GB seems about right for HBN preprocessing. YMMV.\n",
    "# knot = ck.Knot(\n",
    "#     name=f\"hbn-recon-20210126-2\",\n",
    "#     docker_image=di,\n",
    "#     pars_policies=(\"AmazonS3FullAccess\",),\n",
    "#     bid_percentage=100,\n",
    "#     memory=64000,\n",
    "#     job_def_vcpus=8,\n",
    "#     max_vcpus=8192,\n",
    "#     volume_size=90,\n",
    "#     retries=1,\n",
    "#     aws_resource_tags={\"Project\": \"HBN-FCP-INDI\"},\n",
    "# )\n",
    "\n",
    "knot = ck.Knot(name=f\"hbn-recon-20210126-2\")"
   ]
  },
  {
   "cell_type": "markdown",
   "metadata": {},
   "source": [
    "## Submit the jobs and check on results"
   ]
  },
  {
   "cell_type": "code",
   "execution_count": 11,
   "metadata": {},
   "outputs": [
    {
     "name": "stdout",
     "output_type": "stream",
     "text": [
      "Retrieving subject S3 keys\n",
      "[########################################] | 100% Completed |  0.6s\n",
      "2136\n"
     ]
    }
   ],
   "source": [
    "import AFQ.data as afqd\n",
    "study = afqd.S3BIDSStudy(\n",
    "    \"hbn-curated\",\n",
    "    \"fcp-indi\",\n",
    "    \"data/Projects/HBN/BIDS_curated/derivatives/qsiprep\",\n",
    ")\n",
    "\n",
    "subjects = study._all_subjects\n",
    "print(len(subjects))"
   ]
  },
  {
   "cell_type": "code",
   "execution_count": 12,
   "metadata": {},
   "outputs": [
    {
     "name": "stdout",
     "output_type": "stream",
     "text": [
      "Retrieving subject S3 keys\n",
      "[########################################] | 100% Completed |  3min 17.0s\n"
     ]
    }
   ],
   "source": [
    "recon_study = afqd.S3BIDSStudy(\n",
    "    \"hbn-recon\",\n",
    "    bucket=\"hbn-afq\",\n",
    "    s3_prefix=\"derivatives/qsirecon\",\n",
    "    subjects=\"all\",\n",
    "    anon=False,\n",
    ")"
   ]
  },
  {
   "cell_type": "code",
   "execution_count": 13,
   "metadata": {},
   "outputs": [],
   "source": [
    "subs_missing_recon = list(set(study._all_subjects) - set(recon_study._all_subjects))"
   ]
  },
  {
   "cell_type": "code",
   "execution_count": 14,
   "metadata": {},
   "outputs": [
    {
     "data": {
      "text/plain": [
       "43"
      ]
     },
     "execution_count": 14,
     "metadata": {},
     "output_type": "execute_result"
    }
   ],
   "source": [
    "len(subs_missing_recon)"
   ]
  },
  {
   "cell_type": "code",
   "execution_count": 15,
   "metadata": {},
   "outputs": [],
   "source": [
    "results = knot.map(subs_missing_recon)"
   ]
  },
  {
   "cell_type": "code",
   "execution_count": 16,
   "metadata": {},
   "outputs": [
    {
     "name": "stdout",
     "output_type": "stream",
     "text": [
      "Job ID              Name                        Status   \n",
      "---------------------------------------------------------\n",
      "6ec51e04-f267-44d3-abd8-0b92773731f8        hbn-recon-20210126-2-2        SUBMITTED\n",
      "c9cb2323-03b0-48cd-b295-a1d0f92a7d8e        hbn-recon-20210126-2-1        FAILED   \n",
      "f586aa44-981a-43cc-855f-9e8f6ee15c2a        hbn-recon-20210126-2-0        FAILED   \n"
     ]
    }
   ],
   "source": [
    "ck.set_region('us-west-2')\n",
    "knot.view_jobs()"
   ]
  },
  {
   "cell_type": "markdown",
   "metadata": {},
   "source": [
    "## Results\n",
    "\n",
    "The results are dicts where the keys are the subject IDs and the values report sucess or failure"
   ]
  },
  {
   "cell_type": "code",
   "execution_count": null,
   "metadata": {},
   "outputs": [],
   "source": [
    "results.result()"
   ]
  },
  {
   "cell_type": "markdown",
   "metadata": {},
   "source": [
    "## When you're done, clobber the knot"
   ]
  },
  {
   "cell_type": "code",
   "execution_count": null,
   "metadata": {},
   "outputs": [],
   "source": [
    "knot.clobber(clobber_pars=True)"
   ]
  },
  {
   "cell_type": "code",
   "execution_count": null,
   "metadata": {},
   "outputs": [],
   "source": []
  }
 ],
 "metadata": {
  "kernelspec": {
   "display_name": "Python 3",
   "language": "python",
   "name": "python3"
  },
  "language_info": {
   "codemirror_mode": {
    "name": "ipython",
    "version": 3
   },
   "file_extension": ".py",
   "mimetype": "text/x-python",
   "name": "python",
   "nbconvert_exporter": "python",
   "pygments_lexer": "ipython3",
   "version": "3.7.6"
  }
 },
 "nbformat": 4,
 "nbformat_minor": 4
}
