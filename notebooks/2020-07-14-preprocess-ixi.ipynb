{
 "cells": [
  {
   "cell_type": "code",
   "execution_count": 1,
   "metadata": {},
   "outputs": [
    {
     "name": "stderr",
     "output_type": "stream",
     "text": [
      "/Users/richford/miniconda3/envs/cloudknot_qsiprep/lib/python3.7/site-packages/dask/config.py:168: YAMLLoadWarning: calling yaml.load() without Loader=... is deprecated, as the default Loader is unsafe. Please read https://msg.pyyaml.org/load for full details.\n",
      "  data = yaml.load(f.read()) or {}\n",
      "/Users/richford/miniconda3/envs/cloudknot_qsiprep/lib/python3.7/site-packages/dask/dataframe/utils.py:13: FutureWarning: pandas.util.testing is deprecated. Use the functions in the public API at pandas.testing instead.\n",
      "  import pandas.util.testing as tm\n",
      "/Users/richford/miniconda3/envs/cloudknot_qsiprep/lib/python3.7/site-packages/dipy/stats/__init__.py:7: UserWarning: The `dipy.stats` module is still under heavy development and functionality, as well as the API is likely to change in future versions of the software\n",
      "  warnings.warn(w_string)\n",
      "INFO:botocore.credentials:Found credentials in shared credentials file: ~/.aws/credentials\n",
      "INFO:botocore.credentials:Found credentials in shared credentials file: ~/.aws/credentials\n",
      "INFO:botocore.credentials:Found credentials in shared credentials file: ~/.aws/credentials\n",
      "INFO:botocore.credentials:Found credentials in shared credentials file: ~/.aws/credentials\n",
      "INFO:botocore.credentials:Found credentials in shared credentials file: ~/.aws/credentials\n",
      "INFO:botocore.credentials:Found credentials in shared credentials file: ~/.aws/credentials\n",
      "INFO:botocore.credentials:Found credentials in shared credentials file: ~/.aws/credentials\n"
     ]
    }
   ],
   "source": [
    "import AFQ.data as afqd\n",
    "import cloudknot as ck\n",
    "import importlib\n",
    "import s3fs"
   ]
  },
  {
   "cell_type": "code",
   "execution_count": 2,
   "metadata": {},
   "outputs": [
    {
     "data": {
      "text/plain": [
       "<module 'AFQ.data' from '/Users/richford/miniconda3/envs/cloudknot_qsiprep/lib/python3.7/site-packages/AFQ/data.py'>"
      ]
     },
     "execution_count": 2,
     "metadata": {},
     "output_type": "execute_result"
    }
   ],
   "source": [
    "importlib.reload(afqd)"
   ]
  },
  {
   "cell_type": "code",
   "execution_count": 3,
   "metadata": {},
   "outputs": [
    {
     "name": "stdout",
     "output_type": "stream",
     "text": [
      "Retrieving subject S3 keys\n",
      "[########################################] | 100% Completed |  1.3s\n"
     ]
    }
   ],
   "source": [
    "ixi = afqd.S3BIDSStudy(\n",
    "    study_id='ixi', bucket='ixi.bids', s3_prefix='', subjects=5,\n",
    "    anon=False, use_participants_tsv=False, random_seed=42\n",
    ")"
   ]
  },
  {
   "cell_type": "code",
   "execution_count": 4,
   "metadata": {},
   "outputs": [
    {
     "data": {
      "text/plain": [
       "{'raw': ['ixi.bids/dataset_description.json',\n",
       "  'ixi.bids/dwi.bval',\n",
       "  'ixi.bids/dwi.bvec'],\n",
       " 'derivatives': []}"
      ]
     },
     "execution_count": 4,
     "metadata": {},
     "output_type": "execute_result"
    }
   ],
   "source": [
    "ixi.non_sub_s3_keys"
   ]
  },
  {
   "cell_type": "code",
   "execution_count": 5,
   "metadata": {},
   "outputs": [
    {
     "data": {
      "application/vnd.jupyter.widget-view+json": {
       "model_id": "068938b8923346b49fc5d1d1717a53c6",
       "version_major": 2,
       "version_minor": 0
      },
      "text/plain": [
       "HBox(children=(IntProgress(value=0, description='Download sub-IXI139', max=3, style=ProgressStyle(description_…"
      ]
     },
     "metadata": {},
     "output_type": "display_data"
    },
    {
     "data": {
      "application/vnd.jupyter.widget-view+json": {
       "model_id": "1e4d497c55e54f6c957941abb1491679",
       "version_major": 2,
       "version_minor": 0
      },
      "text/plain": [
       "HBox(children=(IntProgress(value=0, description='Download sub-IXI631', max=3, style=ProgressStyle(description_…"
      ]
     },
     "metadata": {},
     "output_type": "display_data"
    },
    {
     "data": {
      "application/vnd.jupyter.widget-view+json": {
       "model_id": "8be24380eb3543358079f48b230fbe7c",
       "version_major": 2,
       "version_minor": 0
      },
      "text/plain": [
       "HBox(children=(IntProgress(value=0, description='Download sub-IXI538', max=3, style=ProgressStyle(description_…"
      ]
     },
     "metadata": {},
     "output_type": "display_data"
    },
    {
     "data": {
      "application/vnd.jupyter.widget-view+json": {
       "model_id": "471937fd81b0472284fe27c0d4c2e75f",
       "version_major": 2,
       "version_minor": 0
      },
      "text/plain": [
       "HBox(children=(IntProgress(value=0, description='Download sub-IXI108', max=3, style=ProgressStyle(description_…"
      ]
     },
     "metadata": {},
     "output_type": "display_data"
    },
    {
     "data": {
      "application/vnd.jupyter.widget-view+json": {
       "model_id": "15c557a7800f4e03bf875998bb464f39",
       "version_major": 2,
       "version_minor": 0
      },
      "text/plain": [
       "HBox(children=(IntProgress(value=0, description='Download sub-IXI039', max=3, style=ProgressStyle(description_…"
      ]
     },
     "metadata": {},
     "output_type": "display_data"
    }
   ],
   "source": [
    "ixi.download('./ixi-bids')"
   ]
  },
  {
   "cell_type": "code",
   "execution_count": 6,
   "metadata": {},
   "outputs": [],
   "source": [
    "import os.path as op\n",
    "\n",
    "fs = s3fs.S3FileSystem()\n",
    "\n",
    "for fn in ixi.non_sub_s3_keys['raw']:\n",
    "    fs.get(fn, op.join('.', 'ixi-bids', op.basename(fn)))"
   ]
  },
  {
   "cell_type": "code",
   "execution_count": 7,
   "metadata": {},
   "outputs": [],
   "source": [
    "s0 = ixi.subjects[0]\n",
    "s1 = ixi.subjects[1]"
   ]
  },
  {
   "cell_type": "code",
   "execution_count": 8,
   "metadata": {},
   "outputs": [
    {
     "data": {
      "text/plain": [
       "'/Users/richford/projects/neuro/hbn-hub/notebooks/ixi-bids'"
      ]
     },
     "execution_count": 8,
     "metadata": {},
     "output_type": "execute_result"
    }
   ],
   "source": [
    "import os.path as op\n",
    "\n",
    "op.commonpath(list(s0.files['raw'].values()) + list(s1.files['raw'].values()))"
   ]
  },
  {
   "cell_type": "code",
   "execution_count": 9,
   "metadata": {},
   "outputs": [],
   "source": [
    "def preprocess_ixi_subject(subject_id):\n",
    "    import AFQ.data as afqd\n",
    "    import os\n",
    "    import subprocess\n",
    "    from s3fs import S3FileSystem\n",
    "    \n",
    "    ixi = afqd.afqd.S3BIDSStudy(\n",
    "        study_id='ixi', bucket='ixi.bids', s3_prefix='', subjects=subject_id,\n",
    "        anon=False, use_participants_tsv=False\n",
    "    )\n",
    "        \n",
    "    ixi.download(\"./ixi\")\n",
    "    \n",
    "    fs = s3fs.S3FileSystem()\n",
    "        \n",
    "    for fn in ixi.non_sub_s3_keys['raw']:\n",
    "        if 'bval' in fn or 'bvec' in fn:\n",
    "            fs.get(fn, os.path.join('.', 'ixi-bids', op.basename(fn)))\n",
    "    \n",
    "    subprocess.run(\n",
    "        [\"qsiprep\",\n",
    "         \"./ixi\",\n",
    "         \"./ixi-preproc\",\n",
    "         subject_id],\n",
    "        shell=True,\n",
    "        check=True,\n",
    "    )\n",
    "\n",
    "    def upload_dir(path):\n",
    "        output_dir = 'ixi.bids/derivatives/qsiprep_ck'\n",
    "        if fs.exists(output_dir):\n",
    "            walk_dir = os.walk(path)\n",
    "            _, dirs, files = next(walk_dir)\n",
    "            for fn in dirs + files:\n",
    "                fs.put(os.path.join(path, fn), output_dir, recursive=True)\n",
    "        else:\n",
    "            fs.put(path, output_dir, recursive=True)\n",
    "            \n",
    "    upload_dir(\"./ixi-preproc\")"
   ]
  },
  {
   "cell_type": "markdown",
   "metadata": {},
   "source": [
    "# Skip this section because the Docker image is already on AWS ECR\n",
    "The cells to skip are commented out"
   ]
  },
  {
   "cell_type": "code",
   "execution_count": 10,
   "metadata": {},
   "outputs": [],
   "source": [
    "# di = ck.DockerImage(\n",
    "#     func=preprocess_ixi_subject,\n",
    "#     base_image=\"pennbbl/qsiprep\",\n",
    "#     github_installs=\"https://github.com/richford/pyAFQ.git@s3-bids-fetch\",\n",
    "# )"
   ]
  },
  {
   "cell_type": "code",
   "execution_count": 11,
   "metadata": {},
   "outputs": [],
   "source": [
    "# di.build_path"
   ]
  },
  {
   "cell_type": "markdown",
   "metadata": {},
   "source": [
    "#### Instruction\n",
    "\n",
    "Go to that directory and edit the Dockerfile to include `--ignore-installed` to the `pip install` commands."
   ]
  },
  {
   "cell_type": "code",
   "execution_count": 12,
   "metadata": {},
   "outputs": [],
   "source": [
    "# di.build(tags=[\"ixi_preproc_20200708\"])"
   ]
  },
  {
   "cell_type": "code",
   "execution_count": 13,
   "metadata": {},
   "outputs": [],
   "source": [
    "# import logging\n",
    "# logger = logging.getLogger()\n",
    "# logger.setLevel(logging.INFO)"
   ]
  },
  {
   "cell_type": "code",
   "execution_count": 14,
   "metadata": {},
   "outputs": [],
   "source": [
    "# di.images"
   ]
  },
  {
   "cell_type": "code",
   "execution_count": 15,
   "metadata": {},
   "outputs": [],
   "source": [
    "# di.repo_uri"
   ]
  },
  {
   "cell_type": "code",
   "execution_count": 16,
   "metadata": {},
   "outputs": [],
   "source": [
    "# ck.get_ecr_repo()"
   ]
  },
  {
   "cell_type": "code",
   "execution_count": 17,
   "metadata": {},
   "outputs": [],
   "source": [
    "# repo = ck.aws.DockerRepo(name=ck.get_ecr_repo())"
   ]
  },
  {
   "cell_type": "code",
   "execution_count": 18,
   "metadata": {},
   "outputs": [],
   "source": [
    "# repo.repo_uri"
   ]
  },
  {
   "cell_type": "code",
   "execution_count": 19,
   "metadata": {},
   "outputs": [],
   "source": [
    "# # This command takes a few hours because the docker image is large\n",
    "# di.push(repo=repo)"
   ]
  },
  {
   "cell_type": "markdown",
   "metadata": {},
   "source": [
    "# Pick up here, retrieving the Docker image from AWS ECR"
   ]
  },
  {
   "cell_type": "code",
   "execution_count": 20,
   "metadata": {},
   "outputs": [],
   "source": [
    "di = ck.DockerImage(name='preprocess-ixi-subject')"
   ]
  },
  {
   "cell_type": "markdown",
   "metadata": {},
   "source": [
    "# Try the Amazon ECS-Optimized Amazon Linux 2 AMI\n",
    "\n",
    "It might allow a larger docker image size"
   ]
  },
  {
   "cell_type": "code",
   "execution_count": 76,
   "metadata": {},
   "outputs": [
    {
     "data": {
      "text/plain": [
       "'us-east-2'"
      ]
     },
     "execution_count": 76,
     "metadata": {},
     "output_type": "execute_result"
    }
   ],
   "source": [
    "ck.get_region()"
   ]
  },
  {
   "cell_type": "code",
   "execution_count": 110,
   "metadata": {},
   "outputs": [],
   "source": [
    "ec2 = ck.aws.clients['ec2']\n",
    "response = ec2.describe_images(Owners=[\"amazon\"])"
   ]
  },
  {
   "cell_type": "code",
   "execution_count": 111,
   "metadata": {},
   "outputs": [],
   "source": [
    "# ecs_image = [\n",
    "#     image for image in response[\"Images\"]\n",
    "#     if image[\"ImageId\"] == \"ami-0466acdbae3d9cc42\"\n",
    "# ][0]\n",
    "# ecs_image"
   ]
  },
  {
   "cell_type": "code",
   "execution_count": 112,
   "metadata": {},
   "outputs": [
    {
     "name": "stdout",
     "output_type": "stream",
     "text": [
      "{'Architecture': 'x86_64', 'CreationDate': '2020-07-09T16:30:21.000Z', 'ImageId': 'ami-0fca7970ac53c18de', 'ImageLocation': 'amazon/amzn2-ami-ecs-hvm-2.0.20200708-x86_64-ebs', 'ImageType': 'machine', 'Public': True, 'OwnerId': '591542846629', 'State': 'available', 'BlockDeviceMappings': [{'DeviceName': '/dev/xvda', 'Ebs': {'DeleteOnTermination': True, 'SnapshotId': 'snap-0b09d0b9dc29b6a1f', 'VolumeSize': 30, 'VolumeType': 'gp2', 'Encrypted': False}}], 'Description': 'Amazon Linux AMI 2.0.20200708 x86_64 ECS HVM GP2', 'EnaSupport': True, 'Hypervisor': 'xen', 'ImageOwnerAlias': 'amazon', 'Name': 'amzn2-ami-ecs-hvm-2.0.20200708-x86_64-ebs', 'RootDeviceName': '/dev/xvda', 'RootDeviceType': 'ebs', 'SriovNetSupport': 'simple', 'VirtualizationType': 'hvm'}\n",
      "ami-0fca7970ac53c18de\n"
     ]
    }
   ],
   "source": [
    "ecs_images = sorted(\n",
    "    [\n",
    "        image for image in response[\"Images\"]\n",
    "        if image.get(\"Description\") is not None\n",
    "        and \"amazon linux ami 2\" in image[\"Description\"].lower()\n",
    "        and \"x86_64 ecs hvm gp2\" in image[\"Description\"].lower()\n",
    "        and \"gpu\" not in image[\"Name\"].lower()\n",
    "        and len(image[\"BlockDeviceMappings\"]) == 1\n",
    "    ],\n",
    "    key=lambda image: image[\"CreationDate\"],\n",
    "    reverse=True\n",
    ")\n",
    "image = ecs_images[0]\n",
    "ami_id = image[\"ImageId\"]\n",
    "print(image)\n",
    "print(ami_id)"
   ]
  },
  {
   "cell_type": "code",
   "execution_count": 113,
   "metadata": {},
   "outputs": [
    {
     "name": "stdout",
     "output_type": "stream",
     "text": [
      "ami-0888e1d90572c95b6\n"
     ]
    }
   ],
   "source": [
    "ec2 = ck.aws.clients['ec2']\n",
    "response = ec2.describe_images(\n",
    "    Filters=[{\n",
    "        'Name': 'description',\n",
    "        'Values': ['Amazon ECS-Optimized Amazon Linux 2 AMI']\n",
    "    }]\n",
    ")\n",
    "print(response[\"Images\"][0][\"ImageId\"])"
   ]
  },
  {
   "cell_type": "code",
   "execution_count": 114,
   "metadata": {},
   "outputs": [],
   "source": [
    "knot = ck.Knot(\n",
    "    name=\"ixi_preproc_20200713_arh_v0\",\n",
    "    docker_image=di,\n",
    "    pars_policies=('AmazonS3FullAccess',),\n",
    "    resource_type=\"SPOT\",\n",
    "    bid_percentage=100,\n",
    "    memory=64000,\n",
    "    job_def_vcpus=32,\n",
    "    image_id=ami_id\n",
    ")"
   ]
  },
  {
   "cell_type": "code",
   "execution_count": 115,
   "metadata": {},
   "outputs": [
    {
     "data": {
      "text/plain": [
       "['sub-IXI538', 'sub-IXI631', 'sub-IXI039', 'sub-IXI108', 'sub-IXI139']"
      ]
     },
     "execution_count": 115,
     "metadata": {},
     "output_type": "execute_result"
    }
   ],
   "source": [
    "sub_ids = [s.subject_id for s in ixi.subjects]\n",
    "sub_ids"
   ]
  },
  {
   "cell_type": "code",
   "execution_count": 116,
   "metadata": {},
   "outputs": [],
   "source": [
    "result_futures = knot.map(sub_ids)"
   ]
  },
  {
   "cell_type": "code",
   "execution_count": 118,
   "metadata": {},
   "outputs": [
    {
     "name": "stdout",
     "output_type": "stream",
     "text": [
      "Job ID              Name                        Status   \n",
      "---------------------------------------------------------\n",
      "ae6f6a8b-bf8d-46fe-a816-1f2ba928d93c        ixi-preproc-20200713-arh-v0-0        FAILED   \n"
     ]
    }
   ],
   "source": [
    "knot.view_jobs()"
   ]
  },
  {
   "cell_type": "code",
   "execution_count": 104,
   "metadata": {},
   "outputs": [],
   "source": [
    "knot.clobber(clobber_pars=True)"
   ]
  },
  {
   "cell_type": "code",
   "execution_count": null,
   "metadata": {},
   "outputs": [],
   "source": [
    "print([j.status for j in knot.jobs])"
   ]
  },
  {
   "cell_type": "code",
   "execution_count": null,
   "metadata": {},
   "outputs": [],
   "source": [
    "knot.clobber(clobber_pars=True)"
   ]
  },
  {
   "cell_type": "code",
   "execution_count": null,
   "metadata": {},
   "outputs": [],
   "source": []
  }
 ],
 "metadata": {
  "kernelspec": {
   "display_name": "Python 3",
   "language": "python",
   "name": "python3"
  },
  "language_info": {
   "codemirror_mode": {
    "name": "ipython",
    "version": 3
   },
   "file_extension": ".py",
   "mimetype": "text/x-python",
   "name": "python",
   "nbconvert_exporter": "python",
   "pygments_lexer": "ipython3",
   "version": "3.7.6"
  }
 },
 "nbformat": 4,
 "nbformat_minor": 4
}
