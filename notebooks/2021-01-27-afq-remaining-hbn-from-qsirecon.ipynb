{
 "cells": [
  {
   "cell_type": "code",
   "execution_count": 1,
   "metadata": {},
   "outputs": [
    {
     "name": "stderr",
     "output_type": "stream",
     "text": [
      "/Users/richford/miniconda3/envs/cloudknot_qsiprep/lib/python3.7/site-packages/dask/config.py:168: YAMLLoadWarning: calling yaml.load() without Loader=... is deprecated, as the default Loader is unsafe. Please read https://msg.pyyaml.org/load for full details.\n",
      "  data = yaml.load(f.read()) or {}\n",
      "/Users/richford/miniconda3/envs/cloudknot_qsiprep/lib/python3.7/site-packages/dask/dataframe/utils.py:13: FutureWarning: pandas.util.testing is deprecated. Use the functions in the public API at pandas.testing instead.\n",
      "  import pandas.util.testing as tm\n",
      "INFO:botocore.credentials:Found credentials in shared credentials file: ~/.aws/credentials\n",
      "INFO:botocore.credentials:Found credentials in shared credentials file: ~/.aws/credentials\n",
      "INFO:botocore.credentials:Found credentials in shared credentials file: ~/.aws/credentials\n",
      "INFO:botocore.credentials:Found credentials in shared credentials file: ~/.aws/credentials\n",
      "INFO:botocore.credentials:Found credentials in shared credentials file: ~/.aws/credentials\n",
      "INFO:botocore.credentials:Found credentials in shared credentials file: ~/.aws/credentials\n",
      "INFO:botocore.credentials:Found credentials in shared credentials file: ~/.aws/credentials\n"
     ]
    }
   ],
   "source": [
    "import AFQ.data as afqd\n",
    "import AFQ.api as api\n",
    "import AFQ.mask as afm\n",
    "import cloudknot as ck\n",
    "import importlib\n",
    "import itertools\n",
    "import os\n",
    "import s3fs\n",
    "import bids"
   ]
  },
  {
   "cell_type": "code",
   "execution_count": 2,
   "metadata": {},
   "outputs": [],
   "source": [
    "ck.set_region('us-west-2')"
   ]
  },
  {
   "cell_type": "markdown",
   "metadata": {},
   "source": [
    "## Define the preprocessing function"
   ]
  },
  {
   "cell_type": "code",
   "execution_count": 3,
   "metadata": {},
   "outputs": [],
   "source": [
    "def afq_hbn_subject(subject, reg_subject):\n",
    "    import AFQ.data as afqd\n",
    "    import AFQ.mask as afm\n",
    "    import AFQ.api as api\n",
    "    import os\n",
    "    import subprocess\n",
    "    import sys\n",
    "    from bids import BIDSLayout\n",
    "    from s3fs import S3FileSystem\n",
    "\n",
    "    local_bids_folder = \"hbn\"\n",
    "    input_bucket = \"fcp-indi\"\n",
    "    input_s3_prefix = \"data/Projects/HBN/BIDS_curated\"\n",
    "\n",
    "    # select subjects from qsiprep\n",
    "    study = afqd.S3BIDSStudy(\n",
    "        \"hbn-curated\",\n",
    "        input_bucket,\n",
    "        input_s3_prefix,\n",
    "        subjects=[subject],\n",
    "        random_seed=42\n",
    "    )\n",
    "    study.download(local_bids_folder, include_derivs=True)\n",
    "\n",
    "    recon_bucket = \"hbn-afq\"\n",
    "    recon_s3_prefix = \"\"\n",
    "\n",
    "    study = afqd.S3BIDSStudy(\n",
    "        \"hbn-recon\",\n",
    "        recon_bucket,\n",
    "        recon_s3_prefix,\n",
    "        subjects=[subject],\n",
    "        random_seed=42,\n",
    "        use_participants_tsv=True,\n",
    "        anon=False,\n",
    "    )\n",
    "    study.download(local_bids_folder, include_derivs=\"qsirecon\")\n",
    "\n",
    "    reg_template = {\n",
    "        \"b0\": \"mni_t1\",\n",
    "        \"power_map\": \"mni_t2\",\n",
    "        \"dti_fa_subject\": \"dti_fa_template\",\n",
    "        \"subject_sls\": \"hcp_atlas\",\n",
    "    }\n",
    "\n",
    "    myafq = api.AFQ(\n",
    "        local_bids_folder,\n",
    "        dmriprep=\"qsiprep\",\n",
    "        brain_mask=afm.MaskFile(\n",
    "            \"mask\",\n",
    "            {\n",
    "                \"desc\": \"brain\",\n",
    "                 \"space\": None\n",
    "            }\n",
    "        ),\n",
    "        reg_subject=reg_subject,\n",
    "        reg_template=reg_template[reg_subject],\n",
    "        scalars=[\"dki_md\", \"dki_fa\", \"dti_md\", \"dti_fa\"],\n",
    "        custom_tractography_bids_filters={\n",
    "            \"suffix\": \"ifod2\",\n",
    "            \"scope\": \"qsirecon\",\n",
    "        },\n",
    "    )\n",
    "\n",
    "    myafq.export_all()\n",
    "\n",
    "    output_bucket = \"hbn-afq\"\n",
    "    output_s3_prefix = \"\"\n",
    "\n",
    "    myafq.upload_to_s3(\n",
    "        S3FileSystem(),\n",
    "        os.path.join(\n",
    "            output_bucket,\n",
    "            output_s3_prefix,\n",
    "            \"derivatives/afq\"\n",
    "        )\n",
    "    )\n",
    "\n",
    "    return {subject: True}"
   ]
  },
  {
   "cell_type": "code",
   "execution_count": 4,
   "metadata": {},
   "outputs": [],
   "source": [
    "recover_from_config = True"
   ]
  },
  {
   "cell_type": "code",
   "execution_count": 5,
   "metadata": {},
   "outputs": [],
   "source": [
    "if not recover_from_config:\n",
    "    di = ck.DockerImage(\n",
    "        name=\"afq-hbn-recon\",\n",
    "        func=afq_hbn_subject,\n",
    "        base_image=\"libglxvfb:1\",\n",
    "        github_installs=\"https://github.com/yeatmanlab/pyAFQ.git@master\",\n",
    "        overwrite=True\n",
    "    )\n",
    "else:\n",
    "    di = ck.DockerImage(name=\"afq-hbn-recon\")"
   ]
  },
  {
   "cell_type": "markdown",
   "metadata": {},
   "source": [
    "## Build, tag, and push the Docker image"
   ]
  },
  {
   "cell_type": "code",
   "execution_count": 6,
   "metadata": {},
   "outputs": [],
   "source": [
    "if not recover_from_config:\n",
    "    di.build(tags=[\"afq-hbn-recon-20210127\"])"
   ]
  },
  {
   "cell_type": "code",
   "execution_count": 7,
   "metadata": {},
   "outputs": [],
   "source": [
    "if not recover_from_config:\n",
    "    repo = ck.aws.DockerRepo(name=ck.get_ecr_repo())"
   ]
  },
  {
   "cell_type": "code",
   "execution_count": 8,
   "metadata": {},
   "outputs": [],
   "source": [
    "if not recover_from_config:\n",
    "    print(repo.repo_uri)"
   ]
  },
  {
   "cell_type": "code",
   "execution_count": 9,
   "metadata": {},
   "outputs": [],
   "source": [
    "if not recover_from_config:\n",
    "    # The very first time you run this, this command could take\n",
    "    # a few hours because the docker image is large\n",
    "    di.push(repo=repo)"
   ]
  },
  {
   "cell_type": "code",
   "execution_count": 10,
   "metadata": {},
   "outputs": [
    {
     "name": "stdout",
     "output_type": "stream",
     "text": [
      "454929164628.dkr.ecr.us-west-2.amazonaws.com/cloudknot:afq-hbn-recon-20210127\n"
     ]
    }
   ],
   "source": [
    "print(di.repo_uri)"
   ]
  },
  {
   "cell_type": "markdown",
   "metadata": {},
   "source": [
    "## Create the Knot"
   ]
  },
  {
   "cell_type": "code",
   "execution_count": 11,
   "metadata": {},
   "outputs": [],
   "source": [
    "# Specify bid_percentage to use Spot instances\n",
    "# And make sure the volume size is large enough. 55-60 GB seems about right for HBN preprocessing. YMMV.\n",
    "# knot = ck.Knot(\n",
    "#     name=f\"hbn-afq-20210127-2\",\n",
    "#     docker_image=di,\n",
    "#     pars_policies=(\"AmazonS3FullAccess\",),\n",
    "#     bid_percentage=100,\n",
    "#     memory=64000,\n",
    "#     job_def_vcpus=8,\n",
    "#     max_vcpus=8192,\n",
    "#     retries=2,\n",
    "#     volume_size=80,\n",
    "#     aws_resource_tags={\"Project\": \"HBN-FCP-INDI\"},\n",
    "# )\n",
    "\n",
    "knot = ck.Knot(name=f\"hbn-afq-20210127-2\")"
   ]
  },
  {
   "cell_type": "markdown",
   "metadata": {},
   "source": [
    "## Submit the jobs and check on results"
   ]
  },
  {
   "cell_type": "code",
   "execution_count": 12,
   "metadata": {},
   "outputs": [
    {
     "name": "stdout",
     "output_type": "stream",
     "text": [
      "Retrieving subject S3 keys\n",
      "[########################################] | 100% Completed |  0.3s\n",
      "Retrieving subject S3 keys\n",
      "[########################################] | 100% Completed |  0.5s\n"
     ]
    }
   ],
   "source": [
    "recon_study = afqd.S3BIDSStudy(\n",
    "    \"hbn-recon\",\n",
    "    bucket=\"hbn-afq\",\n",
    "    s3_prefix=\"derivatives/qsirecon\",\n",
    "    anon=False,\n",
    ")\n",
    "\n",
    "afq_study = afqd.S3BIDSStudy(\n",
    "    \"hbn-afq\",\n",
    "    bucket=\"hbn-afq\",\n",
    "    s3_prefix=\"derivatives/afq\",\n",
    "    anon=False,\n",
    ")"
   ]
  },
  {
   "cell_type": "code",
   "execution_count": 13,
   "metadata": {},
   "outputs": [
    {
     "name": "stdout",
     "output_type": "stream",
     "text": [
      "43\n"
     ]
    }
   ],
   "source": [
    "remaining_subs = list(set(recon_study._all_subjects) - set(afq_study._all_subjects))\n",
    "print(len(remaining_subs))"
   ]
  },
  {
   "cell_type": "code",
   "execution_count": 14,
   "metadata": {},
   "outputs": [
    {
     "name": "stdout",
     "output_type": "stream",
     "text": [
      "2050\n"
     ]
    }
   ],
   "source": [
    "print(len(afq_study._all_subjects))"
   ]
  },
  {
   "cell_type": "code",
   "execution_count": 15,
   "metadata": {},
   "outputs": [
    {
     "name": "stdout",
     "output_type": "stream",
     "text": [
      "43\n"
     ]
    }
   ],
   "source": [
    "reg_subject = [\"power_map\"]\n",
    "\n",
    "args = list(itertools.product(\n",
    "    remaining_subs,\n",
    "    reg_subject,\n",
    "))\n",
    "\n",
    "print(len(args))"
   ]
  },
  {
   "cell_type": "code",
   "execution_count": 16,
   "metadata": {},
   "outputs": [],
   "source": [
    "results = knot.map(args, starmap=True)"
   ]
  },
  {
   "cell_type": "code",
   "execution_count": 18,
   "metadata": {},
   "outputs": [
    {
     "name": "stdout",
     "output_type": "stream",
     "text": [
      "Job ID              Name                        Status   \n",
      "---------------------------------------------------------\n",
      "3b0987f6-7c8f-4666-9357-812267dc3da8        hbn-afq-20210127-2-5        PENDING  \n",
      "35b27531-0507-4da2-8dd2-106baeb32b3a        hbn-afq-20210127-2-2        FAILED   \n",
      "d4eff159-e836-4406-8ad9-4c0d0e6696af        hbn-afq-20210127-2-3        FAILED   \n",
      "1227a559-525e-48c3-9d30-63f098cb7f01        hbn-afq-20210127-2-4        FAILED   \n",
      "16778ab8-b761-4bfe-8520-4cfe4f73edc2        hbn-afq-20210127-2-0        FAILED   \n",
      "31e32fc3-fea4-437c-9fe0-2272baa8da35        hbn-afq-20210127-2-1        FAILED   \n"
     ]
    }
   ],
   "source": [
    "ck.set_region('us-west-2')\n",
    "knot.view_jobs()"
   ]
  },
  {
   "cell_type": "markdown",
   "metadata": {},
   "source": [
    "## Results\n",
    "\n",
    "The results are dicts where the keys are the subject IDs and the values report sucess or failure"
   ]
  },
  {
   "cell_type": "code",
   "execution_count": null,
   "metadata": {},
   "outputs": [],
   "source": [
    "results.result()"
   ]
  },
  {
   "cell_type": "markdown",
   "metadata": {},
   "source": [
    "## When you're done, clobber the knot"
   ]
  },
  {
   "cell_type": "code",
   "execution_count": null,
   "metadata": {},
   "outputs": [],
   "source": [
    "knot.clobber(clobber_pars=True)"
   ]
  },
  {
   "cell_type": "code",
   "execution_count": null,
   "metadata": {},
   "outputs": [],
   "source": []
  }
 ],
 "metadata": {
  "kernelspec": {
   "display_name": "Python 3",
   "language": "python",
   "name": "python3"
  },
  "language_info": {
   "codemirror_mode": {
    "name": "ipython",
    "version": 3
   },
   "file_extension": ".py",
   "mimetype": "text/x-python",
   "name": "python",
   "nbconvert_exporter": "python",
   "pygments_lexer": "ipython3",
   "version": "3.7.6"
  }
 },
 "nbformat": 4,
 "nbformat_minor": 4
}
