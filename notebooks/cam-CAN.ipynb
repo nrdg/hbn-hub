{
 "cells": [
  {
   "cell_type": "code",
   "execution_count": 5,
   "metadata": {},
   "outputs": [
    {
     "name": "stderr",
     "output_type": "stream",
     "text": [
      "INFO:botocore.credentials:Found credentials in shared credentials file: ~/.aws/credentials\n",
      "INFO:botocore.credentials:Found credentials in shared credentials file: ~/.aws/credentials\n",
      "INFO:botocore.credentials:Found credentials in shared credentials file: ~/.aws/credentials\n",
      "INFO:botocore.credentials:Found credentials in shared credentials file: ~/.aws/credentials\n",
      "INFO:botocore.credentials:Found credentials in shared credentials file: ~/.aws/credentials\n",
      "INFO:botocore.credentials:Found credentials in shared credentials file: ~/.aws/credentials\n",
      "INFO:botocore.credentials:Found credentials in shared credentials file: ~/.aws/credentials\n"
     ]
    }
   ],
   "source": [
    "import cloudknot as ck\n",
    "ck.set_region('us-west-2')"
   ]
  },
  {
   "cell_type": "code",
   "execution_count": 1,
   "metadata": {},
   "outputs": [],
   "source": [
    "def afq_cam_can(subject):\n",
    "    import AFQ.data as afqd\n",
    "    import AFQ.api as api\n",
    "    import AFQ.mask as afm\n",
    "    import os.path as op\n",
    "    import s3fs\n",
    "    import packaging\n",
    "    import cython\n",
    "\n",
    "    local_bids_folder = \"cam_can\"\n",
    "    bucket = \"cam-can-mri\"\n",
    "    s3_prefix = \"\"\n",
    "    s3_prefix_qsiprep = \"derivatives/qsiprep\"\n",
    "    scope = 'qsiprep'\n",
    "\n",
    "    # select subjects from qsiprep\n",
    "    study_qsiprep = afqd.S3BIDSStudy(\n",
    "        \"Cam-CAN-qsiprep\",\n",
    "        bucket,\n",
    "        s3_prefix_qsiprep,\n",
    "        subjects=[subject],\n",
    "        anon=False,\n",
    "        random_seed=42)\n",
    "    sub_name = study_qsiprep.subjects[0].subject_id\n",
    "\n",
    "    study = afqd.S3BIDSStudy(\n",
    "        \"Cam-CAN\",\n",
    "        bucket,\n",
    "        s3_prefix,\n",
    "        subjects=sub_name,\n",
    "        anon=False,\n",
    "        random_seed=42)\n",
    "    study.download(\n",
    "        local_bids_folder,\n",
    "        include_derivs=scope)\n",
    "    \n",
    "    tracking_params = {\n",
    "        \"n_seeds\": 1, # also try 2\n",
    "        \"directions\": \"prob\",\n",
    "        \"odf_model\": \"CSD\", # also try dki\n",
    "        \"seed_mask\": afm.MaskFile(\n",
    "            \"probseg\",\n",
    "            {\"label\": \"WM\",\n",
    "            \"space\": None}), \n",
    "        \"seed_threshold\": 0.1,\n",
    "        \"stop_mask\": afm.ScalarMask(\"dki_fa\"),\n",
    "        \"stop_threshold\": 0.2,\n",
    "    }\n",
    "    myafq = api.AFQ(\n",
    "        local_bids_folder,\n",
    "        dmriprep='all',\n",
    "        brain_mask=afm.MaskFile(\n",
    "            \"mask\",\n",
    "            {\"desc\": \"brain\",\n",
    "            \"space\": None}),\n",
    "        scalars=['dki_md', 'dki_fa'],\n",
    "        tracking_params=tracking_params,\n",
    "        virtual_frame_buffer=True)\n",
    "    myafq.export_all()\n",
    "    \n",
    "    myafq.upload_to_s3(s3fs.S3FileSystem(), op.join(bucket, s3_prefix, \"derivatives/afq\"))\n",
    "    "
   ]
  },
  {
   "cell_type": "code",
   "execution_count": 11,
   "metadata": {
    "scrolled": false
   },
   "outputs": [],
   "source": [
    "#afq_cam_can(1)"
   ]
  },
  {
   "cell_type": "code",
   "execution_count": 6,
   "metadata": {},
   "outputs": [],
   "source": [
    "afq_knot = ck.Knot(name='afq_cam_can-64gb-20826-5',\n",
    "                  func=afq_cam_can,\n",
    "                  base_image='libglxvfb:1',\n",
    "                  image_github_installs=\"https://github.com/36000/pyAFQ.git@avoid_dipy_load_tractogram_bug#egg=pyAFQ[fury]\",\n",
    "                  pars_policies=('AmazonS3FullAccess',),\n",
    "                  bid_percentage=100,\n",
    "                  memory=64000)"
   ]
  },
  {
   "cell_type": "code",
   "execution_count": 7,
   "metadata": {},
   "outputs": [],
   "source": [
    "inputs = [1, 2]"
   ]
  },
  {
   "cell_type": "code",
   "execution_count": 8,
   "metadata": {},
   "outputs": [],
   "source": [
    "ft = afq_knot.map(inputs)"
   ]
  },
  {
   "cell_type": "code",
   "execution_count": 10,
   "metadata": {},
   "outputs": [
    {
     "name": "stdout",
     "output_type": "stream",
     "text": [
      "Job ID              Name                        Status   \n",
      "---------------------------------------------------------\n",
      "57214a1d-8997-4920-9f60-86251136e14e        afq-cam-can-64gb-20826-5-0        SUCCEEDED\n"
     ]
    }
   ],
   "source": [
    "ck.set_region('us-west-2')\n",
    "afq_knot.view_jobs()"
   ]
  },
  {
   "cell_type": "code",
   "execution_count": null,
   "metadata": {},
   "outputs": [],
   "source": []
  }
 ],
 "metadata": {
  "kernelspec": {
   "display_name": "Python 3",
   "language": "python",
   "name": "python3"
  },
  "language_info": {
   "codemirror_mode": {
    "name": "ipython",
    "version": 3
   },
   "file_extension": ".py",
   "mimetype": "text/x-python",
   "name": "python",
   "nbconvert_exporter": "python",
   "pygments_lexer": "ipython3",
   "version": "3.7.7"
  }
 },
 "nbformat": 4,
 "nbformat_minor": 4
}
