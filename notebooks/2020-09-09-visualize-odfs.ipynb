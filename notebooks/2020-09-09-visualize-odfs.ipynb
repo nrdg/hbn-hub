{
 "cells": [
  {
   "cell_type": "markdown",
   "metadata": {},
   "source": [
    "You can make sure you have all the right dependencies by running\n",
    "```\n",
    "conda env create -f viz-odf-environment.yml\n",
    "```\n",
    "in the parent directory of this notebook's directory"
   ]
  },
  {
   "cell_type": "code",
   "execution_count": 1,
   "metadata": {},
   "outputs": [],
   "source": [
    "import os\n",
    "\n",
    "from visualize_odfs import visualize_odfs"
   ]
  },
  {
   "cell_type": "code",
   "execution_count": 2,
   "metadata": {},
   "outputs": [
    {
     "data": {
      "text/plain": [
       "'/Users/richford/projects/neuro/hbn-hub/notebooks'"
      ]
     },
     "execution_count": 2,
     "metadata": {},
     "output_type": "execute_result"
    }
   ],
   "source": [
    "pwd"
   ]
  },
  {
   "cell_type": "markdown",
   "metadata": {},
   "source": [
    "If this is your first time running this, uncomment the next cell"
   ]
  },
  {
   "cell_type": "code",
   "execution_count": 3,
   "metadata": {},
   "outputs": [],
   "source": [
    "# dwi_common_dir = \"s3://hbn-derivatives/derivatives/qsiprep/sub-NDARAH304ED7/dwi\"\n",
    "# afq_common_dir = \"s3://hbn-derivatives/derivatives/afq/sub-NDARAH304ED7\"\n",
    "\n",
    "# visualize_odfs(\n",
    "#     bval_file=\"/\".join([dwi_common_dir, \"sub-NDARAH304ED7_acq-64dir_space-T1w_desc-preproc_dwi.bval\"]),\n",
    "#     bvec_file=\"/\".join([dwi_common_dir, \"sub-NDARAH304ED7_acq-64dir_space-T1w_desc-preproc_dwi.bvec\"]),\n",
    "#     dwi_file=\"/\".join([dwi_common_dir, \"sub-NDARAH304ED7_acq-64dir_space-T1w_desc-preproc_dwi.nii.gz\"]),\n",
    "#     sh_coeff_file=\"/\".join([afq_common_dir, \"sub-NDARAH304ED7_acq-64dir_space-T1w_desc-preproc_dwi_model-CSD_diffmodel.nii.gz\"])\n",
    "# )"
   ]
  },
  {
   "cell_type": "markdown",
   "metadata": {},
   "source": [
    "The above cell will place the subjects files in a new directory that starts with \"odf_viz_\". If you've already downloaded the subject's files, use the next cell."
   ]
  },
  {
   "cell_type": "code",
   "execution_count": 4,
   "metadata": {},
   "outputs": [
    {
     "name": "stderr",
     "output_type": "stream",
     "text": [
      "/Users/richford/miniconda3/envs/odf-viz/lib/python3.7/site-packages/dipy/reconst/csdeconv.py:80: UserWarning: Parameter `roi_radius` is now called `roi_radii` and can be an\n",
      "    array-like (3,). Parameters `fa_callable` and `return_number_of_voxels`\n",
      "    are not used anymore.\n",
      "  warnings.warn(msg, UserWarning)\n"
     ]
    }
   ],
   "source": [
    "common_dir = \"odf_viz_7a294be4-acb0-413c-b88a-0a420c9c123f\"\n",
    "\n",
    "visualize_odfs(\n",
    "    bval_file=os.path.join(common_dir, \"sub-NDARAH304ED7_acq-64dir_space-T1w_desc-preproc_dwi.bval\"),\n",
    "    bvec_file=os.path.join(common_dir, \"sub-NDARAH304ED7_acq-64dir_space-T1w_desc-preproc_dwi.bvec\"),\n",
    "    dwi_file=os.path.join(common_dir, \"sub-NDARAH304ED7_acq-64dir_space-T1w_desc-preproc_dwi.nii.gz\"),\n",
    "    sh_coeff_file=os.path.join(common_dir, \"sub-NDARAH304ED7_acq-64dir_space-T1w_desc-preproc_dwi_model-CSD_diffmodel.nii.gz\")\n",
    ")"
   ]
  },
  {
   "cell_type": "code",
   "execution_count": null,
   "metadata": {},
   "outputs": [],
   "source": []
  }
 ],
 "metadata": {
  "kernelspec": {
   "display_name": "Python 3",
   "language": "python",
   "name": "python3"
  },
  "language_info": {
   "codemirror_mode": {
    "name": "ipython",
    "version": 3
   },
   "file_extension": ".py",
   "mimetype": "text/x-python",
   "name": "python",
   "nbconvert_exporter": "python",
   "pygments_lexer": "ipython3",
   "version": "3.7.8"
  }
 },
 "nbformat": 4,
 "nbformat_minor": 4
}
