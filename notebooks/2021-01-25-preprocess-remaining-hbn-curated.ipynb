{
 "cells": [
  {
   "cell_type": "code",
   "execution_count": 5,
   "metadata": {},
   "outputs": [],
   "source": [
    "import AFQ.data as afqd\n",
    "import cloudknot as ck\n",
    "import importlib\n",
    "import s3fs\n",
    "import json\n",
    "import os.path as op\n",
    "import numpy as np\n",
    "import pandas as pd"
   ]
  },
  {
   "cell_type": "code",
   "execution_count": 37,
   "metadata": {},
   "outputs": [
    {
     "name": "stdout",
     "output_type": "stream",
     "text": [
      "Retrieving subject S3 keys\n",
      "[########################################] | 100% Completed |  2.7s\n",
      "Retrieving subject S3 keys\n",
      "[########################################] | 100% Completed |  0.6s\n"
     ]
    }
   ],
   "source": [
    "study = afqd.S3BIDSStudy(\n",
    "    \"hbn_curated-0\",\n",
    "    bucket=\"fcp-indi\",\n",
    "    s3_prefix=\"data/Projects/HBN/BIDS_curated\",\n",
    "    subjects=1,\n",
    ")\n",
    "\n",
    "qsiprep_study = afqd.S3BIDSStudy(\n",
    "    \"hbn_curated_qsiprep-0\",\n",
    "    bucket=\"fcp-indi\",\n",
    "    s3_prefix=\"data/Projects/HBN/BIDS_curated/derivatives/qsiprep\",\n",
    "    subjects=1,\n",
    ")"
   ]
  },
  {
   "cell_type": "code",
   "execution_count": 38,
   "metadata": {},
   "outputs": [
    {
     "name": "stdout",
     "output_type": "stream",
     "text": [
      "2615\n",
      "1653\n"
     ]
    }
   ],
   "source": [
    "print(len(study._all_subjects))\n",
    "print(len(qsiprep_study._all_subjects))"
   ]
  },
  {
   "cell_type": "code",
   "execution_count": 4,
   "metadata": {},
   "outputs": [
    {
     "name": "stdout",
     "output_type": "stream",
     "text": [
      "962\n"
     ]
    }
   ],
   "source": [
    "remaining_subs = list(set(study._all_subjects) - set(qsiprep_study._all_subjects))\n",
    "print(len(remaining_subs))"
   ]
  },
  {
   "cell_type": "code",
   "execution_count": 6,
   "metadata": {},
   "outputs": [
    {
     "data": {
      "text/html": [
       "<div>\n",
       "<style scoped>\n",
       "    .dataframe tbody tr th:only-of-type {\n",
       "        vertical-align: middle;\n",
       "    }\n",
       "\n",
       "    .dataframe tbody tr th {\n",
       "        vertical-align: top;\n",
       "    }\n",
       "\n",
       "    .dataframe thead th {\n",
       "        text-align: right;\n",
       "    }\n",
       "</style>\n",
       "<table border=\"1\" class=\"dataframe\">\n",
       "  <thead>\n",
       "    <tr style=\"text-align: right;\">\n",
       "      <th></th>\n",
       "      <th>participant_id</th>\n",
       "      <th>site</th>\n",
       "      <th>raw_nifti</th>\n",
       "      <th>raw_json</th>\n",
       "      <th>raw_bval</th>\n",
       "      <th>raw_bvec</th>\n",
       "    </tr>\n",
       "  </thead>\n",
       "  <tbody>\n",
       "    <tr>\n",
       "      <th>0</th>\n",
       "      <td>sub-NDARHU910KZC</td>\n",
       "      <td>Site-CBIC</td>\n",
       "      <td>s3://fcp-indi/data/Projects/HBN/MRI/Site-CBIC/...</td>\n",
       "      <td>s3://fcp-indi/data/Projects/HBN/MRI/Site-CBIC/...</td>\n",
       "      <td>s3://fcp-indi/data/Projects/HBN/MRI/Site-CBIC/...</td>\n",
       "      <td>s3://fcp-indi/data/Projects/HBN/MRI/Site-CBIC/...</td>\n",
       "    </tr>\n",
       "    <tr>\n",
       "      <th>1</th>\n",
       "      <td>sub-NDARGM610LF0</td>\n",
       "      <td>Site-SI</td>\n",
       "      <td>s3://fcp-indi/data/Projects/HBN/MRI/Site-SI/su...</td>\n",
       "      <td>s3://fcp-indi/data/Projects/HBN/MRI/Site-SI/su...</td>\n",
       "      <td>s3://fcp-indi/data/Projects/HBN/MRI/Site-SI/su...</td>\n",
       "      <td>s3://fcp-indi/data/Projects/HBN/MRI/Site-SI/su...</td>\n",
       "    </tr>\n",
       "    <tr>\n",
       "      <th>2</th>\n",
       "      <td>sub-NDARPL501ZUU</td>\n",
       "      <td>Site-CBIC</td>\n",
       "      <td>s3://fcp-indi/data/Projects/HBN/MRI/Site-CBIC/...</td>\n",
       "      <td>s3://fcp-indi/data/Projects/HBN/MRI/Site-CBIC/...</td>\n",
       "      <td>s3://fcp-indi/data/Projects/HBN/MRI/Site-CBIC/...</td>\n",
       "      <td>s3://fcp-indi/data/Projects/HBN/MRI/Site-CBIC/...</td>\n",
       "    </tr>\n",
       "    <tr>\n",
       "      <th>3</th>\n",
       "      <td>sub-NDAREC078VFT</td>\n",
       "      <td>Site-RU</td>\n",
       "      <td>s3://fcp-indi/data/Projects/HBN/MRI/Site-RU/su...</td>\n",
       "      <td>s3://fcp-indi/data/Projects/HBN/MRI/Site-RU/su...</td>\n",
       "      <td>s3://fcp-indi/data/Projects/HBN/MRI/Site-RU/su...</td>\n",
       "      <td>s3://fcp-indi/data/Projects/HBN/MRI/Site-RU/su...</td>\n",
       "    </tr>\n",
       "    <tr>\n",
       "      <th>4</th>\n",
       "      <td>sub-NDARLH263KCL</td>\n",
       "      <td>Site-CBIC</td>\n",
       "      <td>s3://fcp-indi/data/Projects/HBN/MRI/Site-CBIC/...</td>\n",
       "      <td>s3://fcp-indi/data/Projects/HBN/MRI/Site-CBIC/...</td>\n",
       "      <td>s3://fcp-indi/data/Projects/HBN/MRI/Site-CBIC/...</td>\n",
       "      <td>s3://fcp-indi/data/Projects/HBN/MRI/Site-CBIC/...</td>\n",
       "    </tr>\n",
       "  </tbody>\n",
       "</table>\n",
       "</div>"
      ],
      "text/plain": [
       "     participant_id       site  \\\n",
       "0  sub-NDARHU910KZC  Site-CBIC   \n",
       "1  sub-NDARGM610LF0    Site-SI   \n",
       "2  sub-NDARPL501ZUU  Site-CBIC   \n",
       "3  sub-NDAREC078VFT    Site-RU   \n",
       "4  sub-NDARLH263KCL  Site-CBIC   \n",
       "\n",
       "                                           raw_nifti  \\\n",
       "0  s3://fcp-indi/data/Projects/HBN/MRI/Site-CBIC/...   \n",
       "1  s3://fcp-indi/data/Projects/HBN/MRI/Site-SI/su...   \n",
       "2  s3://fcp-indi/data/Projects/HBN/MRI/Site-CBIC/...   \n",
       "3  s3://fcp-indi/data/Projects/HBN/MRI/Site-RU/su...   \n",
       "4  s3://fcp-indi/data/Projects/HBN/MRI/Site-CBIC/...   \n",
       "\n",
       "                                            raw_json  \\\n",
       "0  s3://fcp-indi/data/Projects/HBN/MRI/Site-CBIC/...   \n",
       "1  s3://fcp-indi/data/Projects/HBN/MRI/Site-SI/su...   \n",
       "2  s3://fcp-indi/data/Projects/HBN/MRI/Site-CBIC/...   \n",
       "3  s3://fcp-indi/data/Projects/HBN/MRI/Site-RU/su...   \n",
       "4  s3://fcp-indi/data/Projects/HBN/MRI/Site-CBIC/...   \n",
       "\n",
       "                                            raw_bval  \\\n",
       "0  s3://fcp-indi/data/Projects/HBN/MRI/Site-CBIC/...   \n",
       "1  s3://fcp-indi/data/Projects/HBN/MRI/Site-SI/su...   \n",
       "2  s3://fcp-indi/data/Projects/HBN/MRI/Site-CBIC/...   \n",
       "3  s3://fcp-indi/data/Projects/HBN/MRI/Site-RU/su...   \n",
       "4  s3://fcp-indi/data/Projects/HBN/MRI/Site-CBIC/...   \n",
       "\n",
       "                                            raw_bvec  \n",
       "0  s3://fcp-indi/data/Projects/HBN/MRI/Site-CBIC/...  \n",
       "1  s3://fcp-indi/data/Projects/HBN/MRI/Site-SI/su...  \n",
       "2  s3://fcp-indi/data/Projects/HBN/MRI/Site-CBIC/...  \n",
       "3  s3://fcp-indi/data/Projects/HBN/MRI/Site-RU/su...  \n",
       "4  s3://fcp-indi/data/Projects/HBN/MRI/Site-CBIC/...  "
      ]
     },
     "execution_count": 6,
     "metadata": {},
     "output_type": "execute_result"
    }
   ],
   "source": [
    "mismatch_df = pd.read_csv(\"/Users/richford/Desktop/curation_dwi_mismatch.csv\")\n",
    "mismatch_df.head()"
   ]
  },
  {
   "cell_type": "code",
   "execution_count": 30,
   "metadata": {},
   "outputs": [
    {
     "name": "stdout",
     "output_type": "stream",
     "text": [
      "union 512\n",
      "remaining, not mismatched 450\n"
     ]
    }
   ],
   "source": [
    "print(\"union\", len(set(remaining_subs) & set(mismatch_df[\"participant_id\"])))\n",
    "print(\"remaining, not mismatched\", len(set(remaining_subs) - set(mismatch_df[\"participant_id\"])))"
   ]
  },
  {
   "cell_type": "markdown",
   "metadata": {},
   "source": [
    "## Define the preprocessing function"
   ]
  },
  {
   "cell_type": "code",
   "execution_count": 12,
   "metadata": {},
   "outputs": [],
   "source": [
    "def preprocess_hbn(subject_id):\n",
    "    import AFQ.data as afqd\n",
    "    import os\n",
    "    import subprocess\n",
    "    from s3fs import S3FileSystem\n",
    "    \n",
    "    # The following code snippet retrieves access credentials for the fcp-indi bucket that are stored in an AWS secret.\n",
    "    import boto3\n",
    "    import json\n",
    "\n",
    "    secret_name = \"hbn/fcp-indi/access\"\n",
    "    region_name = \"us-west-2\"\n",
    "\n",
    "    # Create a Secrets Manager client\n",
    "    session = boto3.session.Session()\n",
    "    client = session.client(\n",
    "        service_name='secretsmanager',\n",
    "        region_name=region_name\n",
    "    )\n",
    "\n",
    "    get_secret_value_response = client.get_secret_value(\n",
    "        SecretId=secret_name\n",
    "    )\n",
    "    # Decrypts secret using the associated KMS CMK.\n",
    "    secret = json.loads(get_secret_value_response['SecretString'])\n",
    "    \n",
    "    local_dir = \"./hbn\"\n",
    "    local_output_dir = \"./hbn-preproc\"\n",
    "    bucket = \"fcp-indi\"\n",
    "    s3_prefix = \"data/Projects/HBN/BIDS_curated\"\n",
    "    \n",
    "    study = afqd.S3BIDSStudy(\n",
    "        \"hbn_curated\",\n",
    "        bucket=bucket,\n",
    "        s3_prefix=s3_prefix,\n",
    "        subjects=[subject_id],\n",
    "        anon=True,\n",
    "    )\n",
    "    \n",
    "    study.download(local_dir)\n",
    "    fs = S3FileSystem(\n",
    "        key=secret[\"fcp_indi_aws_access_key_id\"],\n",
    "        secret=secret[\"fcp_indi_aws_secret_access_key\"]\n",
    "    )\n",
    "    \n",
    "    # HBN has other files that we don't need for dMRI preproc and whose presence will confuse qsiprep\n",
    "    # Get rid of them\n",
    "    s0 = study.subjects[0]\n",
    "    dwi_files = [file for key, file in s0.files[\"raw\"].items() if \"/dwi/\" in key]\n",
    "    fmri_files = [file for key, file in s0.files[\"raw\"].items() if \"/func/\" in key]\n",
    "    fmri_files += [file for key, file in s0.files[\"raw\"].items() if \"/fmap/\" in key and \"acq-fMRI\" in key]\n",
    "    \n",
    "    for fname in fmri_files:\n",
    "        os.remove(fname)\n",
    "            \n",
    "    command = [\n",
    "        \"qsiprep\",\n",
    "        \"--output-resolution\",\n",
    "        \"1.8\",\n",
    "        \"--participant-label\",\n",
    "        subject_id,\n",
    "        \"-w\",\n",
    "        \"./hbn-wrk\",\n",
    "        \"--nthreads\",\n",
    "        \"8\",\n",
    "        \"--omp-nthreads\",\n",
    "        \"8\",\n",
    "        \"--dwi-denoise-window\",\n",
    "        \"5\",\n",
    "        \"--unringing-method\",\n",
    "        \"mrdegibbs\",\n",
    "        local_dir,\n",
    "        local_output_dir,\n",
    "        \"participant\",\n",
    "    ]\n",
    "    \n",
    "    if dwi_files:\n",
    "        response = subprocess.run(command, check=True)\n",
    "        output_dir = \"/\".join([bucket, s3_prefix, \"derivatives\", \"qsiprep\"])\n",
    "        fs.put(f\"{local_output_dir}/qsiprep/{subject_id}\",\n",
    "               \"/\".join([output_dir, subject_id]), recursive=True)\n",
    "        fs.put(f\"{local_output_dir}/qsiprep/{subject_id}.html\",\n",
    "               \"/\".join([output_dir, subject_id + \".html\"]))\n",
    "\n",
    "        return {subject_id: True}\n",
    "    else:\n",
    "        return {subject_id: False}"
   ]
  },
  {
   "cell_type": "markdown",
   "metadata": {},
   "source": [
    "# Create a cloudknot DockerImage instance"
   ]
  },
  {
   "cell_type": "markdown",
   "metadata": {},
   "source": [
    "This Docker image was previously created for the initial production runs. Instead of creating a new one, retrieve the information from the cloudknot config file. If you haven't done this previously on your local machine, you'll have to set `recover_from_config = False`."
   ]
  },
  {
   "cell_type": "code",
   "execution_count": 19,
   "metadata": {},
   "outputs": [],
   "source": [
    "recover_from_config = True"
   ]
  },
  {
   "cell_type": "code",
   "execution_count": 20,
   "metadata": {},
   "outputs": [
    {
     "name": "stderr",
     "output_type": "stream",
     "text": [
      "WARNING:cloudknot.dockerimage:Warning, some imports not found by pipreqs. You will need to edit the Dockerfile by hand, e.g by installing from github. You need to install the following packages ['AFQ']\n"
     ]
    }
   ],
   "source": [
    "if not recover_from_config:\n",
    "    di = ck.DockerImage(\n",
    "        name=\"preprocess-hbn-curated\",\n",
    "        func=preprocess_hbn,\n",
    "        base_image=\"qsiprep:direct-0.12.1\",\n",
    "        github_installs=[\"https://github.com/yeatmanlab/pyAFQ.git@master\",\n",
    "                         \"https://github.com/matplotlib/matplotlib.git@v2.2.3\",\n",
    "                         \"https://github.com/bids-standard/pybids.git@0.9.3\"],\n",
    "        overwrite=True,\n",
    "    )\n",
    "else:\n",
    "    di = ck.DockerImage(name=\"preprocess-hbn-curated\")"
   ]
  },
  {
   "cell_type": "markdown",
   "metadata": {},
   "source": [
    "## Build, tag, and push the Docker image"
   ]
  },
  {
   "cell_type": "code",
   "execution_count": 21,
   "metadata": {},
   "outputs": [
    {
     "data": {
      "text/plain": [
       "'454929164628.dkr.ecr.us-west-2.amazonaws.com/cloudknot:hbn-preproc-curated'"
      ]
     },
     "execution_count": 21,
     "metadata": {},
     "output_type": "execute_result"
    }
   ],
   "source": [
    "di.repo_uri"
   ]
  },
  {
   "cell_type": "code",
   "execution_count": 22,
   "metadata": {},
   "outputs": [],
   "source": [
    "if not recover_from_config:\n",
    "    di.build(tags=[\"hbn-preproc-curated\"])"
   ]
  },
  {
   "cell_type": "code",
   "execution_count": 23,
   "metadata": {},
   "outputs": [],
   "source": [
    "if not recover_from_config:\n",
    "    repo = ck.aws.DockerRepo(name=ck.get_ecr_repo())"
   ]
  },
  {
   "cell_type": "code",
   "execution_count": 24,
   "metadata": {},
   "outputs": [],
   "source": [
    "if not recover_from_config:\n",
    "    print(repo.repo_uri)"
   ]
  },
  {
   "cell_type": "code",
   "execution_count": 25,
   "metadata": {},
   "outputs": [],
   "source": [
    "if not recover_from_config:\n",
    "    # The very first time you run this, this command could take\n",
    "    # a few hours because the docker image is large\n",
    "    di.push(repo=repo)"
   ]
  },
  {
   "cell_type": "markdown",
   "metadata": {},
   "source": [
    "## Create the Knots"
   ]
  },
  {
   "cell_type": "code",
   "execution_count": 26,
   "metadata": {},
   "outputs": [],
   "source": [
    "# Specify bid_percentage to use Spot instances\n",
    "# And make sure the volume size is large enough. 50-55 GB seems about right for HBN preprocessing. YMMV.\n",
    "# Also be sure to set the Project tag in ``aws_resource_tags`` for billing transparency\n",
    "knot = ck.Knot(\n",
    "    name=f\"qsiprep-hbn-curated-3\",\n",
    "    docker_image=di,\n",
    "    pars_policies=('AmazonS3FullAccess','AllowFcpIndiKeyAccess'),\n",
    "    bid_percentage=100,\n",
    "    memory=64000,\n",
    "    job_def_vcpus=8,\n",
    "    volume_size=90,\n",
    "    max_vcpus=8192,\n",
    "    retries=3,\n",
    "    aws_resource_tags={\"Project\": \"HBN-FCP-INDI\"},\n",
    ")"
   ]
  },
  {
   "cell_type": "markdown",
   "metadata": {},
   "source": [
    "## Submit the jobs and check on results"
   ]
  },
  {
   "cell_type": "code",
   "execution_count": 31,
   "metadata": {},
   "outputs": [],
   "source": [
    "first_50_futures = knot.map(remaining_subs[50:])"
   ]
  },
  {
   "cell_type": "markdown",
   "metadata": {},
   "source": [
    "Argh, that was silly. That's all the subjects except the first 50. Oh well, let's see how it's running"
   ]
  },
  {
   "cell_type": "code",
   "execution_count": 33,
   "metadata": {},
   "outputs": [
    {
     "name": "stdout",
     "output_type": "stream",
     "text": [
      "Job ID              Name                        Status   \n",
      "---------------------------------------------------------\n",
      "6a1a3303-07a0-4bee-b4eb-a053854255ce        qsiprep-hbn-curated-3-0        PENDING  \n"
     ]
    }
   ],
   "source": [
    "knot.view_jobs()"
   ]
  },
  {
   "cell_type": "code",
   "execution_count": 34,
   "metadata": {},
   "outputs": [
    {
     "name": "stdout",
     "output_type": "stream",
     "text": [
      "['sub-NDAREW430AYU', 'sub-NDARHN078CDT', 'sub-NDAREM141CKP', 'sub-NDARRE333EKT', 'sub-NDARYZ770NA1', 'sub-NDARLH043YDK', 'sub-NDARKA946MJ1', 'sub-NDARFB500HHN', 'sub-NDARKN175HWB', 'sub-NDARCA153NKE', 'sub-NDARNN218UGY', 'sub-NDARNE800DCT', 'sub-NDARAK019ZR6', 'sub-NDAREC647MKW', 'sub-NDARNL599TMZ', 'sub-NDARKC978MR4', 'sub-NDARRX084UML', 'sub-NDARBM173BJG', 'sub-NDARXU679ZE8', 'sub-NDARXU018RGY', 'sub-NDARWV155PRG', 'sub-NDARUT651WFC', 'sub-NDARJF755DT9', 'sub-NDARHR763RB4', 'sub-NDARML148UCE', 'sub-NDARYL771XDP', 'sub-NDARUF935UL3', 'sub-NDARGJ627BL2', 'sub-NDARAM277WZT', 'sub-NDARFV780ABD', 'sub-NDARXK893KLX', 'sub-NDARMW178UDD', 'sub-NDARRZ940HX6', 'sub-NDARLA226ADX', 'sub-NDARRK163VY8', 'sub-NDARCK661RZ6', 'sub-NDARNE511XHU', 'sub-NDARCJ475WJP', 'sub-NDARGU100JH4', 'sub-NDARMM905VYR', 'sub-NDARRU820CXW', 'sub-NDARWR732NZE', 'sub-NDARAA075AMK', 'sub-NDARYH996DA9', 'sub-NDARGH775KF5', 'sub-NDARMM431GVE', 'sub-NDARRP592GHK', 'sub-NDARXT792GY8', 'sub-NDARFL506HVX', 'sub-NDARFV725DEQ']\n"
     ]
    }
   ],
   "source": [
    "print(remaining_subs[:50])"
   ]
  },
  {
   "cell_type": "code",
   "execution_count": 35,
   "metadata": {},
   "outputs": [],
   "source": [
    "remaining_futures = knot.map(remaining_subs[:50])"
   ]
  },
  {
   "cell_type": "code",
   "execution_count": 36,
   "metadata": {},
   "outputs": [
    {
     "name": "stdout",
     "output_type": "stream",
     "text": [
      "Job ID              Name                        Status   \n",
      "---------------------------------------------------------\n",
      "521c737d-4c32-4d80-b9dd-f52861f63fba        qsiprep-hbn-curated-3-1        PENDING  \n",
      "6a1a3303-07a0-4bee-b4eb-a053854255ce        qsiprep-hbn-curated-3-0        PENDING  \n"
     ]
    }
   ],
   "source": [
    "knot.view_jobs()"
   ]
  },
  {
   "cell_type": "markdown",
   "metadata": {},
   "source": [
    "## Results\n",
    "\n",
    "The results are dicts where the keys are the subject IDs and the values report sucess or failure"
   ]
  },
  {
   "cell_type": "code",
   "execution_count": null,
   "metadata": {},
   "outputs": [],
   "source": [
    "result_futures.result()"
   ]
  },
  {
   "cell_type": "markdown",
   "metadata": {},
   "source": [
    "## Figure out how many subjects we have in the entire study to support some cost estimates"
   ]
  },
  {
   "cell_type": "code",
   "execution_count": null,
   "metadata": {},
   "outputs": [],
   "source": [
    "all_sites = {}\n",
    "\n",
    "for site in [\"Site-SI\", \"Site-CBIC\", \"Site-RU\", \"Site-CUNY\"]:\n",
    "    all_sites[site] = afqd.HBNSite(site=site)\n",
    "    print(f\"{site}: {len(all_sites[site]._all_subjects)}\")"
   ]
  },
  {
   "cell_type": "markdown",
   "metadata": {},
   "source": [
    "## When you're done, clobber the knot"
   ]
  },
  {
   "cell_type": "code",
   "execution_count": null,
   "metadata": {},
   "outputs": [],
   "source": [
    "knot.clobber(clobber_pars=True)"
   ]
  },
  {
   "cell_type": "code",
   "execution_count": null,
   "metadata": {},
   "outputs": [],
   "source": []
  }
 ],
 "metadata": {
  "kernelspec": {
   "display_name": "Python 3",
   "language": "python",
   "name": "python3"
  },
  "language_info": {
   "codemirror_mode": {
    "name": "ipython",
    "version": 3
   },
   "file_extension": ".py",
   "mimetype": "text/x-python",
   "name": "python",
   "nbconvert_exporter": "python",
   "pygments_lexer": "ipython3",
   "version": "3.7.6"
  }
 },
 "nbformat": 4,
 "nbformat_minor": 4
}
