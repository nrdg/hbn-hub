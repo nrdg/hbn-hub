{
 "cells": [
  {
   "cell_type": "code",
   "execution_count": 1,
   "metadata": {},
   "outputs": [
    {
     "name": "stderr",
     "output_type": "stream",
     "text": [
      "/Users/richford/miniconda3/envs/cloudknot_qsiprep/lib/python3.7/site-packages/dask/config.py:168: YAMLLoadWarning: calling yaml.load() without Loader=... is deprecated, as the default Loader is unsafe. Please read https://msg.pyyaml.org/load for full details.\n",
      "  data = yaml.load(f.read()) or {}\n",
      "/Users/richford/miniconda3/envs/cloudknot_qsiprep/lib/python3.7/site-packages/dask/dataframe/utils.py:13: FutureWarning: pandas.util.testing is deprecated. Use the functions in the public API at pandas.testing instead.\n",
      "  import pandas.util.testing as tm\n",
      "/Users/richford/miniconda3/envs/cloudknot_qsiprep/lib/python3.7/site-packages/dipy/stats/__init__.py:7: UserWarning: The `dipy.stats` module is still under heavy development and functionality, as well as the API is likely to change in future versions of the software\n",
      "  warnings.warn(w_string)\n",
      "INFO:botocore.credentials:Found credentials in shared credentials file: ~/.aws/credentials\n",
      "INFO:botocore.credentials:Found credentials in shared credentials file: ~/.aws/credentials\n",
      "INFO:botocore.credentials:Found credentials in shared credentials file: ~/.aws/credentials\n",
      "INFO:botocore.credentials:Found credentials in shared credentials file: ~/.aws/credentials\n",
      "INFO:botocore.credentials:Found credentials in shared credentials file: ~/.aws/credentials\n",
      "INFO:botocore.credentials:Found credentials in shared credentials file: ~/.aws/credentials\n",
      "INFO:botocore.credentials:Found credentials in shared credentials file: ~/.aws/credentials\n"
     ]
    }
   ],
   "source": [
    "import AFQ.data as afqd\n",
    "import cloudknot as ck\n",
    "import importlib\n",
    "import s3fs"
   ]
  },
  {
   "cell_type": "code",
   "execution_count": 2,
   "metadata": {},
   "outputs": [
    {
     "data": {
      "text/plain": [
       "<module 'cloudknot' from '/Users/richford/projects/cloudknot/cloudknot/cloudknot/__init__.py'>"
      ]
     },
     "execution_count": 2,
     "metadata": {},
     "output_type": "execute_result"
    }
   ],
   "source": [
    "importlib.reload(ck)"
   ]
  },
  {
   "cell_type": "code",
   "execution_count": 181,
   "metadata": {},
   "outputs": [
    {
     "name": "stdout",
     "output_type": "stream",
     "text": [
      "Retrieving subject S3 keys\n",
      "[########################################] | 100% Completed |  3.5s\n"
     ]
    }
   ],
   "source": [
    "hbn = afqd.HBNSite(site=\"Site-RU\", subjects=10, random_seed=37)"
   ]
  },
  {
   "cell_type": "code",
   "execution_count": 4,
   "metadata": {},
   "outputs": [
    {
     "data": {
      "text/plain": [
       "'us-east-1'"
      ]
     },
     "execution_count": 4,
     "metadata": {},
     "output_type": "execute_result"
    }
   ],
   "source": [
    "ck.get_region()"
   ]
  },
  {
   "cell_type": "code",
   "execution_count": 5,
   "metadata": {},
   "outputs": [],
   "source": [
    "ck.set_region('us-east-1')"
   ]
  },
  {
   "cell_type": "markdown",
   "metadata": {},
   "source": [
    "## Define the preprocessing function"
   ]
  },
  {
   "cell_type": "code",
   "execution_count": 196,
   "metadata": {},
   "outputs": [],
   "source": [
    "def preprocess_hbn_ru_subject(subject_id):\n",
    "    import AFQ.data as afqd\n",
    "    import os\n",
    "    import subprocess\n",
    "    import sys\n",
    "    from bids import BIDSLayout\n",
    "    from s3fs import S3FileSystem\n",
    "        \n",
    "    hbn_ru = afqd.HBNSite(site=\"Site-RU\", subjects=subject_id)\n",
    "    hbn_ru.download(\"./hbn-ru\")\n",
    "    fs = S3FileSystem()\n",
    "    \n",
    "    layout = BIDSLayout(\"./hbn-ru\")\n",
    "    dwi_subs = layout.get(return_type=\"id\", target=\"subject\", datatype=\"dwi\")\n",
    "    dwi_subs = [\"sub-\" + sub for sub in dwi_subs]\n",
    "    \n",
    "    # HBN has other files that we don't need for dMRI preproc and whose presence will break qsiprep\n",
    "    # Get rid of them\n",
    "    s0 = hbn_ru.subjects[0]\n",
    "    tracew_dwi_files = [file for key, file in s0.files[\"raw\"].items() if \"TRACEW\" in key]\n",
    "    fmri_files = [file for key, file in s0.files[\"raw\"].items() if \"/func/\" in key]\n",
    "    fmri_files += [file for key, file in s0.files[\"raw\"].items() if \"/fmap/\" in key and \"fMRI\" in key]\n",
    "    \n",
    "    for fname in fmri_files + tracew_dwi_files:\n",
    "        os.remove(fname)\n",
    "    \n",
    "    def upload_dir(path):\n",
    "        output_dir = 'hbn-derivatives/qsiprep-ck'\n",
    "        if fs.exists(output_dir):\n",
    "            walk_dir = os.walk(path)\n",
    "            _, dirs, files = next(walk_dir)\n",
    "            for fn in dirs + files:\n",
    "                fs.put(os.path.join(path, fn), output_dir, recursive=True)\n",
    "        else:\n",
    "            fs.put(path, output_dir, recursive=True)\n",
    "\n",
    "    if subject_id in dwi_subs:\n",
    "        response = subprocess.run(\n",
    "            [\n",
    "                \"qsiprep\",\n",
    "                \"--output-resolution\",\n",
    "                \"1.8\",\n",
    "                \"--participant-label\",\n",
    "                subject_id,\n",
    "                \"-w\",\n",
    "                \"./hbn-wrk\",\n",
    "                \"--nthreads\",\n",
    "                \"8\",\n",
    "                \"--omp-nthreads\",\n",
    "                \"8\",\n",
    "                \"./hbn-ru\",\n",
    "                \"./hbn-preproc\",\n",
    "                \"participant\",\n",
    "            ],\n",
    "            check=True\n",
    "        )\n",
    "        \n",
    "        upload_dir(\"./hbn-preproc/qsiprep\")\n",
    "\n",
    "        return {subject_id: True}\n",
    "    else:\n",
    "        return {subject_id: False}"
   ]
  },
  {
   "cell_type": "markdown",
   "metadata": {},
   "source": [
    "# Create a cloudknot DockerImage instance\n",
    "\n",
    "where the base_image is a customized version of qsiprep\n",
    "This version of the qsiprep docker image is located on AWS ECR with image URI:\n",
    "[454929164628.dkr.ecr.us-east-1.amazonaws.com/qsiprep:nrdg](https://console.aws.amazon.com/ecr/repositories/qsiprep/?region=us-east-1)"
   ]
  },
  {
   "cell_type": "code",
   "execution_count": 197,
   "metadata": {},
   "outputs": [
    {
     "name": "stderr",
     "output_type": "stream",
     "text": [
      "WARNING:cloudknot.dockerimage:Found docker-image preprocess-hbn-ru-subject in your config file but the input parameters have changed. The updated parameters are ['func', 'github_installs']. Continuing with the new input parameters and disregarding any old, potentially conflicting ones.\n",
      "WARNING:cloudknot.dockerimage:Warning, some imports not found by pipreqs. You will need to edit the Dockerfile by hand, e.g by installing from github. You need to install the following packages ['AFQ']\n"
     ]
    }
   ],
   "source": [
    "di = ck.DockerImage(\n",
    "    name=\"preprocess-hbn-ru-subject\",\n",
    "    func=preprocess_hbn_ru_subject,\n",
    "    base_image=\"qsiprep:nrdg\",\n",
    "    github_installs=[\"https://github.com/richford/pyAFQ.git@s3-bids-fetch\",\n",
    "                     \"https://github.com/bids-standard/pybids.git@0.9.3\"],\n",
    "    overwrite=True,\n",
    ")"
   ]
  },
  {
   "cell_type": "markdown",
   "metadata": {},
   "source": [
    "## Build, tag, and push the Docker image"
   ]
  },
  {
   "cell_type": "code",
   "execution_count": 198,
   "metadata": {},
   "outputs": [],
   "source": [
    "di.build(tags=[\"hbn-ru-preproc-20200723\"])"
   ]
  },
  {
   "cell_type": "code",
   "execution_count": 199,
   "metadata": {},
   "outputs": [],
   "source": [
    "repo = ck.aws.DockerRepo(name=ck.get_ecr_repo())"
   ]
  },
  {
   "cell_type": "code",
   "execution_count": 200,
   "metadata": {},
   "outputs": [
    {
     "data": {
      "text/plain": [
       "'454929164628.dkr.ecr.us-east-1.amazonaws.com/cloudknot'"
      ]
     },
     "execution_count": 200,
     "metadata": {},
     "output_type": "execute_result"
    }
   ],
   "source": [
    "repo.repo_uri"
   ]
  },
  {
   "cell_type": "code",
   "execution_count": 201,
   "metadata": {},
   "outputs": [],
   "source": [
    "# The very first time you run this, this command could take\n",
    "# a few hours because the docker image is large\n",
    "di.push(repo=repo)"
   ]
  },
  {
   "cell_type": "markdown",
   "metadata": {},
   "source": [
    "## Create the Knot"
   ]
  },
  {
   "cell_type": "code",
   "execution_count": 203,
   "metadata": {},
   "outputs": [],
   "source": [
    "# Specify bid_percentage to use Spot instances\n",
    "# And make sure the volume size is large enough. 50-55 GB seems about right for HBN preprocessing. YMMV.\n",
    "knot = ck.Knot(\n",
    "    name=\"hbn_preproc_20200725_arh_v1\",\n",
    "    docker_image=di,\n",
    "    pars_policies=('AmazonS3FullAccess',),\n",
    "    bid_percentage=100,\n",
    "    memory=64000,\n",
    "    job_def_vcpus=8,\n",
    "    volume_size=55\n",
    ")"
   ]
  },
  {
   "cell_type": "markdown",
   "metadata": {},
   "source": [
    "## Get subject IDs and predict output\n",
    "\n",
    "We'll pass these subject IDs to `knot.map()`"
   ]
  },
  {
   "cell_type": "code",
   "execution_count": 204,
   "metadata": {},
   "outputs": [
    {
     "data": {
      "text/plain": [
       "['sub-NDARWG200CUE',\n",
       " 'sub-NDARMH559LKK',\n",
       " 'sub-NDARAA306NT2',\n",
       " 'sub-NDARAU840EUZ',\n",
       " 'sub-NDARHT095YB4',\n",
       " 'sub-NDARWR628EFJ',\n",
       " 'sub-NDARVA930UA3',\n",
       " 'sub-NDARGM269AVQ',\n",
       " 'sub-NDARXV445NYZ',\n",
       " 'sub-NDARNT043XGH']"
      ]
     },
     "execution_count": 204,
     "metadata": {},
     "output_type": "execute_result"
    }
   ],
   "source": [
    "sub_ids = [s.subject_id for s in hbn.subjects]\n",
    "sub_ids"
   ]
  },
  {
   "cell_type": "markdown",
   "metadata": {},
   "source": [
    "Some HBN subjects do not have dwi data. These will fail and return `{subject_id: False}`. Let's predict how many will fail."
   ]
  },
  {
   "cell_type": "code",
   "execution_count": 205,
   "metadata": {},
   "outputs": [
    {
     "data": {
      "text/plain": [
       "{'sub-NDARWG200CUE': True,\n",
       " 'sub-NDARMH559LKK': True,\n",
       " 'sub-NDARAA306NT2': True,\n",
       " 'sub-NDARAU840EUZ': True,\n",
       " 'sub-NDARHT095YB4': True,\n",
       " 'sub-NDARWR628EFJ': True,\n",
       " 'sub-NDARVA930UA3': True,\n",
       " 'sub-NDARGM269AVQ': True,\n",
       " 'sub-NDARXV445NYZ': True,\n",
       " 'sub-NDARNT043XGH': True}"
      ]
     },
     "execution_count": 205,
     "metadata": {},
     "output_type": "execute_result"
    }
   ],
   "source": [
    "{sub.subject_id: any([\"dwi\" in s3key for s3key in sub.s3_keys[\"raw\"]]) for sub in hbn.subjects}"
   ]
  },
  {
   "cell_type": "markdown",
   "metadata": {},
   "source": [
    "## Submit the jobs and check on results"
   ]
  },
  {
   "cell_type": "code",
   "execution_count": 206,
   "metadata": {},
   "outputs": [],
   "source": [
    "result_futures = knot.map(sub_ids)"
   ]
  },
  {
   "cell_type": "code",
   "execution_count": 210,
   "metadata": {},
   "outputs": [
    {
     "name": "stdout",
     "output_type": "stream",
     "text": [
      "Job ID              Name                        Status   \n",
      "---------------------------------------------------------\n",
      "a777c6cf-84ff-403f-b9dc-e1f9f53b2050        hbn-preproc-20200725-arh-v1-0        PENDING  \n"
     ]
    }
   ],
   "source": [
    "knot.view_jobs()"
   ]
  },
  {
   "cell_type": "code",
   "execution_count": 215,
   "metadata": {},
   "outputs": [
    {
     "name": "stdout",
     "output_type": "stream",
     "text": [
      "[{'status': 'SUCCEEDED', 'statusReason': None, 'attempts': [], 'arrayProperties': {'statusSummary': {'STARTING': 0, 'FAILED': 0, 'RUNNING': 0, 'SUCCEEDED': 10, 'RUNNABLE': 0, 'SUBMITTED': 0, 'PENDING': 0}, 'size': 10}}]\n"
     ]
    }
   ],
   "source": [
    "print([j.status for j in knot.jobs])"
   ]
  },
  {
   "cell_type": "markdown",
   "metadata": {},
   "source": [
    "## Results\n",
    "\n",
    "The results are dicts where the keys are the subject IDs and the values report sucess or failure"
   ]
  },
  {
   "cell_type": "code",
   "execution_count": 218,
   "metadata": {},
   "outputs": [
    {
     "data": {
      "text/plain": [
       "[{'sub-NDARWG200CUE': True},\n",
       " {'sub-NDARMH559LKK': True},\n",
       " {'sub-NDARAA306NT2': True},\n",
       " {'sub-NDARAU840EUZ': True},\n",
       " {'sub-NDARHT095YB4': True},\n",
       " {'sub-NDARWR628EFJ': True},\n",
       " {'sub-NDARVA930UA3': True},\n",
       " {'sub-NDARGM269AVQ': True},\n",
       " {'sub-NDARXV445NYZ': True},\n",
       " {'sub-NDARNT043XGH': True}]"
      ]
     },
     "execution_count": 218,
     "metadata": {},
     "output_type": "execute_result"
    }
   ],
   "source": [
    "result_futures.result()"
   ]
  },
  {
   "cell_type": "markdown",
   "metadata": {},
   "source": [
    "## Figure out how many subjects we have in the entire study to support some cost estimates"
   ]
  },
  {
   "cell_type": "code",
   "execution_count": 221,
   "metadata": {},
   "outputs": [
    {
     "name": "stderr",
     "output_type": "stream",
     "text": [
      "/Users/richford/miniconda3/envs/cloudknot_qsiprep/lib/python3.7/site-packages/bids/layout/models.py:102: FutureWarning: The 'extension' entity currently excludes the leading dot ('.'). As of version 0.14.0, it will include the leading dot. To suppress this warning and include the leading dot, use `bids.config.set_option('extension_initial_dot', True)`.\n",
      "  FutureWarning)\n"
     ]
    },
    {
     "name": "stdout",
     "output_type": "stream",
     "text": [
      "Retrieving subject S3 keys\n",
      "[########################################] | 100% Completed |  1.5s\n",
      "Site-SI: 343\n",
      "Retrieving subject S3 keys\n",
      "[########################################] | 100% Completed |  2.3s\n",
      "Site-CBIC: 905\n",
      "Retrieving subject S3 keys\n",
      "[########################################] | 100% Completed |  1.3s\n",
      "Site-RU: 1227\n",
      "Retrieving subject S3 keys\n",
      "[########################################] | 100% Completed |  1.1s\n",
      "Site-CUNY: 25\n"
     ]
    }
   ],
   "source": [
    "all_sites = {}\n",
    "\n",
    "for site in [\"Site-SI\", \"Site-CBIC\", \"Site-RU\", \"Site-CUNY\"]:\n",
    "    all_sites[site] = afqd.HBNSite(site=site)\n",
    "    print(f\"{site}: {len(all_sites[site]._all_subjects)}\")"
   ]
  },
  {
   "cell_type": "markdown",
   "metadata": {},
   "source": [
    "## When you're done, clobber the knot"
   ]
  },
  {
   "cell_type": "code",
   "execution_count": 222,
   "metadata": {},
   "outputs": [],
   "source": [
    "knot.clobber(clobber_pars=True)"
   ]
  },
  {
   "cell_type": "code",
   "execution_count": null,
   "metadata": {},
   "outputs": [],
   "source": []
  }
 ],
 "metadata": {
  "kernelspec": {
   "display_name": "Python 3",
   "language": "python",
   "name": "python3"
  },
  "language_info": {
   "codemirror_mode": {
    "name": "ipython",
    "version": 3
   },
   "file_extension": ".py",
   "mimetype": "text/x-python",
   "name": "python",
   "nbconvert_exporter": "python",
   "pygments_lexer": "ipython3",
   "version": "3.7.6"
  }
 },
 "nbformat": 4,
 "nbformat_minor": 4
}
