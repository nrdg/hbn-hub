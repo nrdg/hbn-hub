{
 "cells": [
  {
   "cell_type": "code",
   "execution_count": 3,
   "metadata": {},
   "outputs": [
    {
     "name": "stderr",
     "output_type": "stream",
     "text": [
      "/Users/richford/miniconda3/envs/scratch_pyAFQ_hbn/lib/python3.7/site-packages/dask/dataframe/utils.py:13: FutureWarning: pandas.util.testing is deprecated. Use the functions in the public API at pandas.testing instead.\n",
      "  import pandas.util.testing as tm\n",
      "/Users/richford/miniconda3/envs/scratch_pyAFQ_hbn/lib/python3.7/site-packages/dipy/stats/__init__.py:7: UserWarning: The `dipy.stats` module is still under heavy development and functionality, as well as the API is likely to change in future versions of the software\n",
      "  warnings.warn(w_string)\n",
      "INFO:botocore.credentials:Found credentials in shared credentials file: ~/.aws/credentials\n",
      "INFO:botocore.credentials:Found credentials in shared credentials file: ~/.aws/credentials\n",
      "INFO:botocore.credentials:Found credentials in shared credentials file: ~/.aws/credentials\n",
      "INFO:botocore.credentials:Found credentials in shared credentials file: ~/.aws/credentials\n",
      "INFO:botocore.credentials:Found credentials in shared credentials file: ~/.aws/credentials\n",
      "INFO:botocore.credentials:Found credentials in shared credentials file: ~/.aws/credentials\n",
      "INFO:botocore.credentials:Found credentials in shared credentials file: ~/.aws/credentials\n"
     ]
    }
   ],
   "source": [
    "import AFQ.data as afqd\n",
    "import cloudknot as ck\n",
    "import importlib\n",
    "import s3fs"
   ]
  },
  {
   "cell_type": "code",
   "execution_count": 42,
   "metadata": {},
   "outputs": [
    {
     "data": {
      "text/plain": [
       "<module 'AFQ.data' from '/Users/richford/projects/neuro/afq/pyAFQ/AFQ/data.py'>"
      ]
     },
     "execution_count": 42,
     "metadata": {},
     "output_type": "execute_result"
    }
   ],
   "source": [
    "importlib.reload(afqd)"
   ]
  },
  {
   "cell_type": "code",
   "execution_count": 46,
   "metadata": {},
   "outputs": [
    {
     "name": "stdout",
     "output_type": "stream",
     "text": [
      "Retrieving subject S3 keys\n",
      "[########################################] | 100% Completed |  1.9s\n"
     ]
    }
   ],
   "source": [
    "ixi = afqd.S3BIDSStudy(\n",
    "    study_id='ixi', bucket='ixi.bids', s3_prefix='', subjects=5,\n",
    "    anon=False, use_participants_tsv=False, random_seed=42\n",
    ")"
   ]
  },
  {
   "cell_type": "code",
   "execution_count": 81,
   "metadata": {},
   "outputs": [
    {
     "data": {
      "text/plain": [
       "{'raw': ['ixi.bids/dataset_description.json',\n",
       "  'ixi.bids/dwi.bval',\n",
       "  'ixi.bids/dwi.bvec'],\n",
       " 'derivatives': []}"
      ]
     },
     "execution_count": 81,
     "metadata": {},
     "output_type": "execute_result"
    }
   ],
   "source": [
    "ixi.non_sub_s3_keys"
   ]
  },
  {
   "cell_type": "code",
   "execution_count": 82,
   "metadata": {},
   "outputs": [],
   "source": [
    "import os.path as op\n",
    "\n",
    "for fn in ixi.non_sub_s3_keys['raw']:\n",
    "    if 'bval' in fn or 'bvec' in fn:\n",
    "        fs.get(fn, op.join('.', 'ixi-bids', op.basename(fn)))"
   ]
  },
  {
   "cell_type": "code",
   "execution_count": 50,
   "metadata": {},
   "outputs": [
    {
     "data": {
      "text/plain": [
       "[S3BIDSSubject(subject_id=sub-IXI108, study_id=ixi, site=None,\n",
       " S3BIDSSubject(subject_id=sub-IXI039, study_id=ixi, site=None,\n",
       " S3BIDSSubject(subject_id=sub-IXI139, study_id=ixi, site=None,\n",
       " S3BIDSSubject(subject_id=sub-IXI631, study_id=ixi, site=None,\n",
       " S3BIDSSubject(subject_id=sub-IXI538, study_id=ixi, site=None]"
      ]
     },
     "execution_count": 50,
     "metadata": {},
     "output_type": "execute_result"
    }
   ],
   "source": [
    "ixi.subjects"
   ]
  },
  {
   "cell_type": "code",
   "execution_count": 61,
   "metadata": {},
   "outputs": [],
   "source": [
    "s0 = ixi.subjects[0]\n",
    "s1 = ixi.subjects[1]"
   ]
  },
  {
   "cell_type": "code",
   "execution_count": 57,
   "metadata": {},
   "outputs": [
    {
     "data": {
      "application/vnd.jupyter.widget-view+json": {
       "model_id": "13f26160357848c6a7771174184261e0",
       "version_major": 2,
       "version_minor": 0
      },
      "text/plain": [
       "HBox(children=(IntProgress(value=0, description='Download sub-IXI631', max=3, style=ProgressStyle(description_…"
      ]
     },
     "metadata": {},
     "output_type": "display_data"
    },
    {
     "data": {
      "application/vnd.jupyter.widget-view+json": {
       "model_id": "3a5ab489d7454d8a89bd83ba610b9577",
       "version_major": 2,
       "version_minor": 0
      },
      "text/plain": [
       "HBox(children=(IntProgress(value=0, description='Download sub-IXI538', max=3, style=ProgressStyle(description_…"
      ]
     },
     "metadata": {},
     "output_type": "display_data"
    },
    {
     "data": {
      "application/vnd.jupyter.widget-view+json": {
       "model_id": "c8b6735b27804c1b822d29cdb007318e",
       "version_major": 2,
       "version_minor": 0
      },
      "text/plain": [
       "HBox(children=(IntProgress(value=0, description='Download sub-IXI139', max=3, style=ProgressStyle(description_…"
      ]
     },
     "metadata": {},
     "output_type": "display_data"
    },
    {
     "data": {
      "application/vnd.jupyter.widget-view+json": {
       "model_id": "a6b97df397224608bd53e6bdc22d15d6",
       "version_major": 2,
       "version_minor": 0
      },
      "text/plain": [
       "HBox(children=(IntProgress(value=0, description='Download sub-IXI039', max=3, style=ProgressStyle(description_…"
      ]
     },
     "metadata": {},
     "output_type": "display_data"
    },
    {
     "data": {
      "application/vnd.jupyter.widget-view+json": {
       "model_id": "a473bc2e985f41c2a1fa870f6ce24907",
       "version_major": 2,
       "version_minor": 0
      },
      "text/plain": [
       "HBox(children=(IntProgress(value=0, description='Download sub-IXI108', max=3, style=ProgressStyle(description_…"
      ]
     },
     "metadata": {},
     "output_type": "display_data"
    }
   ],
   "source": [
    "ixi.download('./ixi-bids')"
   ]
  },
  {
   "cell_type": "code",
   "execution_count": 58,
   "metadata": {},
   "outputs": [
    {
     "data": {
      "text/plain": [
       "{'raw': {'sub-IXI108/anat/sub-IXI108_T1w.nii.gz': '/Users/richford/projects/neuro/afq/pyAFQ/ixi-bids/sub-IXI108/anat/sub-IXI108_T1w.nii.gz',\n",
       "  'sub-IXI108/dwi/sub-IXI108_dwi.nii.gz': '/Users/richford/projects/neuro/afq/pyAFQ/ixi-bids/sub-IXI108/dwi/sub-IXI108_dwi.nii.gz'},\n",
       " 'derivatives': {}}"
      ]
     },
     "execution_count": 58,
     "metadata": {},
     "output_type": "execute_result"
    }
   ],
   "source": [
    "s0.files"
   ]
  },
  {
   "cell_type": "code",
   "execution_count": 63,
   "metadata": {},
   "outputs": [
    {
     "data": {
      "text/plain": [
       "'/Users/richford/projects/neuro/afq/pyAFQ/ixi-bids'"
      ]
     },
     "execution_count": 63,
     "metadata": {},
     "output_type": "execute_result"
    }
   ],
   "source": [
    "import os.path as op\n",
    "\n",
    "op.commonpath(list(s0.files['raw'].values()) + list(s1.files['raw'].values()))"
   ]
  },
  {
   "cell_type": "code",
   "execution_count": 83,
   "metadata": {},
   "outputs": [],
   "source": [
    "def preprocess_ixi_subject(subject_id):\n",
    "    import AFQ.data as afqd\n",
    "    import os\n",
    "    import subprocess\n",
    "    from s3fs import S3FileSystem\n",
    "    \n",
    "    ixi = afqd.afqd.S3BIDSStudy(\n",
    "        study_id='ixi', bucket='ixi.bids', s3_prefix='', subjects=subject_id,\n",
    "        anon=False, use_participants_tsv=False\n",
    "    )\n",
    "        \n",
    "    ixi.download(\"./ixi\")\n",
    "    \n",
    "    fs = s3fs.S3FileSystem()\n",
    "        \n",
    "    for fn in ixi.non_sub_s3_keys['raw']:\n",
    "        if 'bval' in fn or 'bvec' in fn:\n",
    "            fs.get(fn, os.path.join('.', 'ixi-bids', op.basename(fn)))\n",
    "    \n",
    "    subprocess.run(\n",
    "        [\"qsiprep\",\n",
    "         \"./ixi\",\n",
    "         \"./ixi-preproc\",\n",
    "         subject_id],\n",
    "        shell=True,\n",
    "        check=True,\n",
    "    )\n",
    "\n",
    "    def upload_dir(path):\n",
    "        output_dir = 'ixi.bids/derivatives/qsiprep_ck'\n",
    "        if fs.exists(output_dir):\n",
    "            walk_dir = os.walk(path)\n",
    "            _, dirs, files = next(walk_dir)\n",
    "            for fn in dirs + files:\n",
    "                fs.put(os.path.join(path, fn), output_dir, recursive=True)\n",
    "        else:\n",
    "            fs.put(path, output_dir, recursive=True)\n",
    "            \n",
    "    upload_dir(\"./ixi-preproc\")"
   ]
  },
  {
   "cell_type": "code",
   "execution_count": 84,
   "metadata": {},
   "outputs": [],
   "source": [
    "di = ck.DockerImage(name=\"preprocess-ixi-subject\")"
   ]
  },
  {
   "cell_type": "code",
   "execution_count": 86,
   "metadata": {},
   "outputs": [],
   "source": [
    "di.build(tags=\"ixi_preproc_20200708\")"
   ]
  },
  {
   "cell_type": "code",
   "execution_count": null,
   "metadata": {},
   "outputs": [],
   "source": [
    "knot = ck.Knot(\n",
    "    name=\"ixi_preproc_20200708_v2\",\n",
    "#     func=preprocess_ixi_subject,\n",
    "#     base_image=\"pennbbl/qsiprep\",\n",
    "    docker_image=di,\n",
    "#     image_github_installs=\"https://github.com/richford/pyAFQ.git@s3-bids-fetch\",\n",
    "    pars_policies=('AmazonS3FullAccess',),\n",
    "    resource_type=\"SPOT\",\n",
    "    bid_percentage=100,\n",
    "    memory=64000,\n",
    "    job_def_vcpus=32,\n",
    ")"
   ]
  },
  {
   "cell_type": "code",
   "execution_count": null,
   "metadata": {},
   "outputs": [],
   "source": [
    "sub_ids = [s.subject_id for s in hbn.subjects]\n",
    "sub_ids"
   ]
  },
  {
   "cell_type": "code",
   "execution_count": null,
   "metadata": {},
   "outputs": [],
   "source": [
    "result_futures = knot.map(sub_ids)"
   ]
  },
  {
   "cell_type": "code",
   "execution_count": null,
   "metadata": {},
   "outputs": [],
   "source": [
    "knot.view_jobs()"
   ]
  },
  {
   "cell_type": "code",
   "execution_count": null,
   "metadata": {},
   "outputs": [],
   "source": [
    "print([j.status for j in knot.jobs])"
   ]
  },
  {
   "cell_type": "code",
   "execution_count": null,
   "metadata": {},
   "outputs": [],
   "source": [
    "knot.clobber(clobber_pars=True)"
   ]
  },
  {
   "cell_type": "code",
   "execution_count": null,
   "metadata": {},
   "outputs": [],
   "source": []
  }
 ],
 "metadata": {
  "kernelspec": {
   "display_name": "Python 3",
   "language": "python",
   "name": "python3"
  },
  "language_info": {
   "codemirror_mode": {
    "name": "ipython",
    "version": 3
   },
   "file_extension": ".py",
   "mimetype": "text/x-python",
   "name": "python",
   "nbconvert_exporter": "python",
   "pygments_lexer": "ipython3",
   "version": "3.7.6"
  }
 },
 "nbformat": 4,
 "nbformat_minor": 4
}
