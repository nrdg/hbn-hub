{
 "cells": [
  {
   "cell_type": "code",
   "execution_count": 1,
   "metadata": {},
   "outputs": [
    {
     "name": "stderr",
     "output_type": "stream",
     "text": [
      "/Users/richford/miniconda3/envs/cloudknot_qsiprep/lib/python3.7/site-packages/dask/config.py:168: YAMLLoadWarning: calling yaml.load() without Loader=... is deprecated, as the default Loader is unsafe. Please read https://msg.pyyaml.org/load for full details.\n",
      "  data = yaml.load(f.read()) or {}\n",
      "/Users/richford/miniconda3/envs/cloudknot_qsiprep/lib/python3.7/site-packages/dask/dataframe/utils.py:13: FutureWarning: pandas.util.testing is deprecated. Use the functions in the public API at pandas.testing instead.\n",
      "  import pandas.util.testing as tm\n",
      "/Users/richford/miniconda3/envs/cloudknot_qsiprep/lib/python3.7/site-packages/dipy/stats/__init__.py:7: UserWarning: The `dipy.stats` module is still under heavy development and functionality, as well as the API is likely to change in future versions of the software\n",
      "  warnings.warn(w_string)\n",
      "INFO:botocore.credentials:Found credentials in shared credentials file: ~/.aws/credentials\n",
      "INFO:botocore.credentials:Found credentials in shared credentials file: ~/.aws/credentials\n",
      "INFO:botocore.credentials:Found credentials in shared credentials file: ~/.aws/credentials\n",
      "INFO:botocore.credentials:Found credentials in shared credentials file: ~/.aws/credentials\n",
      "INFO:botocore.credentials:Found credentials in shared credentials file: ~/.aws/credentials\n",
      "INFO:botocore.credentials:Found credentials in shared credentials file: ~/.aws/credentials\n",
      "INFO:botocore.credentials:Found credentials in shared credentials file: ~/.aws/credentials\n"
     ]
    }
   ],
   "source": [
    "import AFQ.data as afqd\n",
    "import cloudknot as ck\n",
    "import importlib\n",
    "import s3fs"
   ]
  },
  {
   "cell_type": "code",
   "execution_count": 2,
   "metadata": {},
   "outputs": [
    {
     "data": {
      "text/plain": [
       "<module 'AFQ.data' from '/Users/richford/miniconda3/envs/cloudknot_qsiprep/lib/python3.7/site-packages/AFQ/data.py'>"
      ]
     },
     "execution_count": 2,
     "metadata": {},
     "output_type": "execute_result"
    }
   ],
   "source": [
    "importlib.reload(afqd)"
   ]
  },
  {
   "cell_type": "code",
   "execution_count": 3,
   "metadata": {},
   "outputs": [
    {
     "name": "stdout",
     "output_type": "stream",
     "text": [
      "Retrieving subject S3 keys\n",
      "[########################################] | 100% Completed |  1.0s\n"
     ]
    }
   ],
   "source": [
    "ixi = afqd.S3BIDSStudy(\n",
    "    study_id='ixi', bucket='ixi.bids', s3_prefix='', subjects=5,\n",
    "    anon=False, use_participants_tsv=False, random_seed=42\n",
    ")"
   ]
  },
  {
   "cell_type": "code",
   "execution_count": 4,
   "metadata": {},
   "outputs": [
    {
     "data": {
      "text/plain": [
       "{'raw': ['ixi.bids/dataset_description.json',\n",
       "  'ixi.bids/dwi.bval',\n",
       "  'ixi.bids/dwi.bvec'],\n",
       " 'derivatives': []}"
      ]
     },
     "execution_count": 4,
     "metadata": {},
     "output_type": "execute_result"
    }
   ],
   "source": [
    "ixi.non_sub_s3_keys"
   ]
  },
  {
   "cell_type": "code",
   "execution_count": 5,
   "metadata": {},
   "outputs": [
    {
     "data": {
      "application/vnd.jupyter.widget-view+json": {
       "model_id": "3b7970541184473e80de35c1f37d1f8c",
       "version_major": 2,
       "version_minor": 0
      },
      "text/plain": [
       "HBox(children=(IntProgress(value=0, description='Download sub-IXI538', max=3, style=ProgressStyle(description_…"
      ]
     },
     "metadata": {},
     "output_type": "display_data"
    },
    {
     "data": {
      "application/vnd.jupyter.widget-view+json": {
       "model_id": "8273f22c4bce4d9bab7a6c3c0b163387",
       "version_major": 2,
       "version_minor": 0
      },
      "text/plain": [
       "HBox(children=(IntProgress(value=0, description='Download sub-IXI039', max=3, style=ProgressStyle(description_…"
      ]
     },
     "metadata": {},
     "output_type": "display_data"
    },
    {
     "data": {
      "application/vnd.jupyter.widget-view+json": {
       "model_id": "70ba6be378fb4528b1a2d51f385ae650",
       "version_major": 2,
       "version_minor": 0
      },
      "text/plain": [
       "HBox(children=(IntProgress(value=0, description='Download sub-IXI631', max=3, style=ProgressStyle(description_…"
      ]
     },
     "metadata": {},
     "output_type": "display_data"
    },
    {
     "data": {
      "application/vnd.jupyter.widget-view+json": {
       "model_id": "f4024051057b411ea4157720dcf44c54",
       "version_major": 2,
       "version_minor": 0
      },
      "text/plain": [
       "HBox(children=(IntProgress(value=0, description='Download sub-IXI139', max=3, style=ProgressStyle(description_…"
      ]
     },
     "metadata": {},
     "output_type": "display_data"
    },
    {
     "data": {
      "application/vnd.jupyter.widget-view+json": {
       "model_id": "75b14be20e8f4b289990cb1d4a0b7ce7",
       "version_major": 2,
       "version_minor": 0
      },
      "text/plain": [
       "HBox(children=(IntProgress(value=0, description='Download sub-IXI108', max=3, style=ProgressStyle(description_…"
      ]
     },
     "metadata": {},
     "output_type": "display_data"
    }
   ],
   "source": [
    "ixi.download('./ixi-bids')"
   ]
  },
  {
   "cell_type": "code",
   "execution_count": 6,
   "metadata": {},
   "outputs": [],
   "source": [
    "import os.path as op\n",
    "\n",
    "fs = s3fs.S3FileSystem()\n",
    "\n",
    "for fn in ixi.non_sub_s3_keys['raw']:\n",
    "    fs.get(fn, op.join('.', 'ixi-bids', op.basename(fn)))"
   ]
  },
  {
   "cell_type": "code",
   "execution_count": 7,
   "metadata": {},
   "outputs": [],
   "source": [
    "s0 = ixi.subjects[0]\n",
    "s1 = ixi.subjects[1]"
   ]
  },
  {
   "cell_type": "code",
   "execution_count": 8,
   "metadata": {},
   "outputs": [
    {
     "data": {
      "text/plain": [
       "'/Users/richford/projects/neuro/hbn-hub/notebooks/ixi-bids'"
      ]
     },
     "execution_count": 8,
     "metadata": {},
     "output_type": "execute_result"
    }
   ],
   "source": [
    "import os.path as op\n",
    "\n",
    "op.commonpath(list(s0.files['raw'].values()) + list(s1.files['raw'].values()))"
   ]
  },
  {
   "cell_type": "code",
   "execution_count": 9,
   "metadata": {},
   "outputs": [],
   "source": [
    "def preprocess_ixi_subject(subject_id):\n",
    "    import AFQ.data as afqd\n",
    "    import os\n",
    "    import subprocess\n",
    "    from s3fs import S3FileSystem\n",
    "    \n",
    "    ixi = afqd.afqd.S3BIDSStudy(\n",
    "        study_id='ixi', bucket='ixi.bids', s3_prefix='', subjects=subject_id,\n",
    "        anon=False, use_participants_tsv=False\n",
    "    )\n",
    "        \n",
    "    ixi.download(\"./ixi\")\n",
    "    \n",
    "    fs = s3fs.S3FileSystem()\n",
    "        \n",
    "    for fn in ixi.non_sub_s3_keys['raw']:\n",
    "        if 'bval' in fn or 'bvec' in fn:\n",
    "            fs.get(fn, os.path.join('.', 'ixi-bids', op.basename(fn)))\n",
    "    \n",
    "    subprocess.run(\n",
    "        [\"qsiprep\",\n",
    "         \"./ixi\",\n",
    "         \"./ixi-preproc\",\n",
    "         subject_id],\n",
    "        shell=True,\n",
    "        check=True,\n",
    "    )\n",
    "\n",
    "    def upload_dir(path):\n",
    "        output_dir = 'ixi.bids/derivatives/qsiprep_ck'\n",
    "        if fs.exists(output_dir):\n",
    "            walk_dir = os.walk(path)\n",
    "            _, dirs, files = next(walk_dir)\n",
    "            for fn in dirs + files:\n",
    "                fs.put(os.path.join(path, fn), output_dir, recursive=True)\n",
    "        else:\n",
    "            fs.put(path, output_dir, recursive=True)\n",
    "            \n",
    "    upload_dir(\"./ixi-preproc\")"
   ]
  },
  {
   "cell_type": "code",
   "execution_count": 10,
   "metadata": {},
   "outputs": [],
   "source": [
    "di = ck.DockerImage(\n",
    "    func=preprocess_ixi_subject,\n",
    "    base_image=\"pennbbl/qsiprep\",\n",
    "    github_installs=\"https://github.com/richford/pyAFQ.git@s3-bids-fetch\",\n",
    ")"
   ]
  },
  {
   "cell_type": "code",
   "execution_count": 11,
   "metadata": {},
   "outputs": [
    {
     "data": {
      "text/plain": [
       "'/Users/richford/projects/neuro/hbn-hub/notebooks/cloudknot_docker_preprocess-ixi-subject_t1r5mhji'"
      ]
     },
     "execution_count": 11,
     "metadata": {},
     "output_type": "execute_result"
    }
   ],
   "source": [
    "di.build_path"
   ]
  },
  {
   "cell_type": "markdown",
   "metadata": {},
   "source": [
    "## Instruction\n",
    "\n",
    "Go to that directory and edit the Dockerfile to include `--ignore-installed` to the `pip install` commands."
   ]
  },
  {
   "cell_type": "code",
   "execution_count": 12,
   "metadata": {},
   "outputs": [],
   "source": [
    "di.build(tags=[\"ixi_preproc_20200708\"])"
   ]
  },
  {
   "cell_type": "code",
   "execution_count": 20,
   "metadata": {},
   "outputs": [],
   "source": [
    "import logging\n",
    "logger = logging.getLogger()\n",
    "logger.setLevel(logging.INFO)"
   ]
  },
  {
   "cell_type": "code",
   "execution_count": 14,
   "metadata": {},
   "outputs": [
    {
     "data": {
      "text/plain": [
       "[{'name': 'cloudknot/preprocess-ixi-subject', 'tag': 'ixi_preproc_20200708'}]"
      ]
     },
     "execution_count": 14,
     "metadata": {},
     "output_type": "execute_result"
    }
   ],
   "source": [
    "di.images"
   ]
  },
  {
   "cell_type": "code",
   "execution_count": 15,
   "metadata": {},
   "outputs": [],
   "source": [
    "di.repo_uri"
   ]
  },
  {
   "cell_type": "code",
   "execution_count": 16,
   "metadata": {},
   "outputs": [
    {
     "name": "stderr",
     "output_type": "stream",
     "text": [
      "DEBUG:urllib3.util.retry:Converted retries value: False -> Retry(total=False, connect=None, read=None, redirect=0, status=None)\n",
      "DEBUG:urllib3.connectionpool:Starting new HTTPS connection (1): api.ecr.us-east-2.amazonaws.com:443\n",
      "DEBUG:urllib3.connectionpool:https://api.ecr.us-east-2.amazonaws.com:443 \"POST / HTTP/1.1\" 200 331\n"
     ]
    },
    {
     "data": {
      "text/plain": [
       "'cloudknot'"
      ]
     },
     "execution_count": 16,
     "metadata": {},
     "output_type": "execute_result"
    }
   ],
   "source": [
    "ck.get_ecr_repo()"
   ]
  },
  {
   "cell_type": "code",
   "execution_count": 17,
   "metadata": {},
   "outputs": [
    {
     "name": "stderr",
     "output_type": "stream",
     "text": [
      "DEBUG:urllib3.util.retry:Converted retries value: False -> Retry(total=False, connect=None, read=None, redirect=0, status=None)\n",
      "DEBUG:urllib3.connectionpool:https://api.ecr.us-east-2.amazonaws.com:443 \"POST / HTTP/1.1\" 200 331\n",
      "DEBUG:urllib3.util.retry:Converted retries value: False -> Retry(total=False, connect=None, read=None, redirect=0, status=None)\n",
      "DEBUG:urllib3.connectionpool:https://api.ecr.us-east-2.amazonaws.com:443 \"POST / HTTP/1.1\" 200 331\n"
     ]
    }
   ],
   "source": [
    "repo = ck.aws.DockerRepo(name=ck.get_ecr_repo())"
   ]
  },
  {
   "cell_type": "code",
   "execution_count": 18,
   "metadata": {},
   "outputs": [
    {
     "data": {
      "text/plain": [
       "'454929164628.dkr.ecr.us-east-2.amazonaws.com/cloudknot'"
      ]
     },
     "execution_count": 18,
     "metadata": {},
     "output_type": "execute_result"
    }
   ],
   "source": [
    "repo.repo_uri"
   ]
  },
  {
   "cell_type": "code",
   "execution_count": 19,
   "metadata": {},
   "outputs": [
    {
     "name": "stderr",
     "output_type": "stream",
     "text": [
      "DEBUG:docker.utils.config:Trying paths: ['/Users/richford/.docker/config.json', '/Users/richford/.dockercfg']\n",
      "DEBUG:docker.utils.config:Found file at path: /Users/richford/.docker/config.json\n",
      "DEBUG:docker.auth:Found 'auths' section\n",
      "DEBUG:docker.auth:Auth data for 454929164628.dkr.ecr.us-east-1.amazonaws.com is absent. Client might be using a credentials store instead.\n",
      "DEBUG:docker.auth:Auth data for 454929164628.dkr.ecr.us-east-2.amazonaws.com is absent. Client might be using a credentials store instead.\n",
      "DEBUG:docker.auth:Auth data for 454929164628.dkr.ecr.us-west-2.amazonaws.com is absent. Client might be using a credentials store instead.\n",
      "DEBUG:docker.auth:Auth data for 455598791984.dkr.ecr.us-west-2.amazonaws.com is absent. Client might be using a credentials store instead.\n",
      "DEBUG:docker.auth:Auth data for https://455598791984.dkr.ecr.us-west-2.amazonaws.com is absent. Client might be using a credentials store instead.\n",
      "DEBUG:docker.auth:Found 'credsStore' section\n",
      "DEBUG:docker.utils.config:Trying paths: ['/Users/richford/.docker/config.json', '/Users/richford/.dockercfg']\n",
      "DEBUG:docker.utils.config:Found file at path: /Users/richford/.docker/config.json\n",
      "DEBUG:docker.auth:Found 'auths' section\n",
      "DEBUG:docker.auth:Auth data for 454929164628.dkr.ecr.us-east-1.amazonaws.com is absent. Client might be using a credentials store instead.\n",
      "DEBUG:docker.auth:Auth data for 454929164628.dkr.ecr.us-east-2.amazonaws.com is absent. Client might be using a credentials store instead.\n",
      "DEBUG:docker.auth:Auth data for 454929164628.dkr.ecr.us-west-2.amazonaws.com is absent. Client might be using a credentials store instead.\n",
      "DEBUG:docker.auth:Auth data for 455598791984.dkr.ecr.us-west-2.amazonaws.com is absent. Client might be using a credentials store instead.\n",
      "DEBUG:docker.auth:Auth data for https://455598791984.dkr.ecr.us-west-2.amazonaws.com is absent. Client might be using a credentials store instead.\n",
      "DEBUG:docker.auth:Found 'credsStore' section\n",
      "DEBUG:urllib3.connectionpool:http://localhost:None \"POST /v1.35/images/cloudknot/preprocess-ixi-subject:ixi_preproc_20200708/tag?tag=ixi_preproc_20200708&repo=454929164628.dkr.ecr.us-east-2.amazonaws.com%2Fcloudknot&force=0 HTTP/1.1\" 201 0\n",
      "DEBUG:docker.auth:Looking for auth config\n",
      "DEBUG:docker.auth:Using credentials store \"desktop\"\n",
      "DEBUG:docker.auth:Looking for auth entry for '454929164628.dkr.ecr.us-east-2.amazonaws.com'\n",
      "DEBUG:docker.auth:Found auth config\n",
      "DEBUG:urllib3.connectionpool:http://localhost:None \"POST /v1.35/images/454929164628.dkr.ecr.us-east-2.amazonaws.com/cloudknot/push?tag=ixi_preproc_20200708 HTTP/1.1\" 200 None\n"
     ]
    }
   ],
   "source": [
    "# This command takes a few hours because the docker image is large\n",
    "di.push(repo=repo)"
   ]
  },
  {
   "cell_type": "code",
   "execution_count": 21,
   "metadata": {},
   "outputs": [],
   "source": [
    "knot = ck.Knot(\n",
    "    name=\"ixi_preproc_20200708_arh_v2\",\n",
    "    docker_image=di,\n",
    "    pars_policies=('AmazonS3FullAccess',),\n",
    "    resource_type=\"SPOT\",\n",
    "    bid_percentage=100,\n",
    "    memory=64000,\n",
    "    job_def_vcpus=32,\n",
    ")"
   ]
  },
  {
   "cell_type": "code",
   "execution_count": 22,
   "metadata": {},
   "outputs": [
    {
     "data": {
      "text/plain": [
       "['sub-IXI108', 'sub-IXI538', 'sub-IXI039', 'sub-IXI139', 'sub-IXI631']"
      ]
     },
     "execution_count": 22,
     "metadata": {},
     "output_type": "execute_result"
    }
   ],
   "source": [
    "sub_ids = [s.subject_id for s in ixi.subjects]\n",
    "sub_ids"
   ]
  },
  {
   "cell_type": "code",
   "execution_count": 23,
   "metadata": {},
   "outputs": [],
   "source": [
    "result_futures = knot.map(sub_ids)"
   ]
  },
  {
   "cell_type": "code",
   "execution_count": 25,
   "metadata": {},
   "outputs": [
    {
     "name": "stdout",
     "output_type": "stream",
     "text": [
      "Job ID              Name                        Status   \n",
      "---------------------------------------------------------\n",
      "52b26af0-1dc8-4096-b4df-73eb17405be5        ixi-preproc-20200708-arh-v2-0        PENDING  \n"
     ]
    }
   ],
   "source": [
    "knot.view_jobs()"
   ]
  },
  {
   "cell_type": "code",
   "execution_count": null,
   "metadata": {},
   "outputs": [],
   "source": [
    "print([j.status for j in knot.jobs])"
   ]
  },
  {
   "cell_type": "code",
   "execution_count": null,
   "metadata": {},
   "outputs": [],
   "source": [
    "knot.clobber(clobber_pars=True)"
   ]
  },
  {
   "cell_type": "code",
   "execution_count": null,
   "metadata": {},
   "outputs": [],
   "source": []
  }
 ],
 "metadata": {
  "kernelspec": {
   "display_name": "Python 3",
   "language": "python",
   "name": "python3"
  },
  "language_info": {
   "codemirror_mode": {
    "name": "ipython",
    "version": 3
   },
   "file_extension": ".py",
   "mimetype": "text/x-python",
   "name": "python",
   "nbconvert_exporter": "python",
   "pygments_lexer": "ipython3",
   "version": "3.7.6"
  }
 },
 "nbformat": 4,
 "nbformat_minor": 4
}
