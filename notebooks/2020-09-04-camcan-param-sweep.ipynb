{
 "cells": [
  {
   "cell_type": "code",
   "execution_count": 2,
   "metadata": {},
   "outputs": [],
   "source": [
    "import cloudknot as ck\n",
    "import itertools\n",
    "ck.set_region('us-west-2')"
   ]
  },
  {
   "cell_type": "code",
   "execution_count": 12,
   "metadata": {},
   "outputs": [],
   "source": [
    "def afq_cam_can(subject, n_seeds, odf_model, reg_subject):\n",
    "    import AFQ.data as afqd\n",
    "    import AFQ.api as api\n",
    "    import AFQ.mask as afm\n",
    "    import os.path as op\n",
    "    import s3fs\n",
    "    import packaging\n",
    "    import cython\n",
    "\n",
    "    local_bids_folder = \"cam_can\"\n",
    "    bucket = \"cam-can-mri\"\n",
    "    s3_prefix = \"\"\n",
    "    s3_prefix_qsiprep = \"derivatives/qsiprep\"\n",
    "    scope = 'qsiprep'\n",
    "\n",
    "    # select subjects from qsiprep\n",
    "    study_qsiprep = afqd.S3BIDSStudy(\n",
    "        \"Cam-CAN-qsiprep\",\n",
    "        bucket,\n",
    "        s3_prefix_qsiprep,\n",
    "        subjects=[subject],\n",
    "        anon=False,\n",
    "        random_seed=42)\n",
    "    sub_name = study_qsiprep.subjects[0].subject_id\n",
    "\n",
    "    study = afqd.S3BIDSStudy(\n",
    "        \"Cam-CAN\",\n",
    "        bucket,\n",
    "        s3_prefix,\n",
    "        subjects=sub_name,\n",
    "        anon=False,\n",
    "        random_seed=42)\n",
    "    study.download(\n",
    "        local_bids_folder,\n",
    "        include_derivs=scope)\n",
    "    \n",
    "    tracking_params = {\n",
    "        \"n_seeds\": n_seeds,\n",
    "        \"directions\": \"prob\",\n",
    "        \"odf_model\": odf_model,\n",
    "        \"seed_mask\": afm.MaskFile(\n",
    "            \"probseg\",\n",
    "            {\"label\": \"WM\",\n",
    "            \"space\": None}), \n",
    "        \"seed_threshold\": 0.1,\n",
    "        \"stop_mask\": afm.ScalarMask(\"dki_fa\"),\n",
    "        \"stop_threshold\": 0.2,\n",
    "    }\n",
    "    \n",
    "    reg_template = {\n",
    "        \"b0\": \"mni_t1\",\n",
    "        \"power_map\": \"mni_t2\",\n",
    "        \"dti_fa_subject\": \"dti_fa_template\",\n",
    "        \"subject_sls\": \"hcp_atlas\",\n",
    "    }\n",
    "    \n",
    "    myafq = api.AFQ(\n",
    "        local_bids_folder,\n",
    "        dmriprep='all',\n",
    "        brain_mask=afm.MaskFile(\n",
    "            \"mask\",\n",
    "            {\"desc\": \"brain\",\n",
    "            \"space\": None}),\n",
    "        reg_subject=reg_subject,\n",
    "        reg_template=reg_template[reg_subject],\n",
    "        scalars=['dki_md', 'dki_fa'],\n",
    "        tracking_params=tracking_params,\n",
    "        virtual_frame_buffer=True)\n",
    "    myafq.export_all()\n",
    "    \n",
    "    output_suffix = \"nseeds_\" + \"_\".join([str(n_seeds), odf_model, reg_subject]).lower()\n",
    "    myafq.upload_to_s3(s3fs.S3FileSystem(), op.join(bucket, s3_prefix, \"derivatives/afq_\" + output_suffix))"
   ]
  },
  {
   "cell_type": "code",
   "execution_count": 14,
   "metadata": {},
   "outputs": [],
   "source": [
    "afq_knot = ck.Knot(name='afq_cam_can-arh-20200904-1',\n",
    "                   func=afq_cam_can,\n",
    "                   base_image='libglxvfb:1',\n",
    "                   image_github_installs=\"https://github.com/36000/pyAFQ.git@avoid_dipy_load_tractogram_bug#egg=pyAFQ[fury]\",\n",
    "                   pars_policies=('AmazonS3FullAccess',),\n",
    "                   bid_percentage=100,\n",
    "                   max_vcpus=512,\n",
    "                   memory=64000)"
   ]
  },
  {
   "cell_type": "code",
   "execution_count": 15,
   "metadata": {},
   "outputs": [
    {
     "data": {
      "text/plain": [
       "[('sub-CC120347', 1, 'CSD', 'b0'),\n",
       " ('sub-CC120347', 1, 'CSD', 'dti_fa_subject'),\n",
       " ('sub-CC120347', 1, 'CSD', 'power_map'),\n",
       " ('sub-CC120347', 1, 'CSD', 'subject_sls'),\n",
       " ('sub-CC120347', 2, 'CSD', 'b0'),\n",
       " ('sub-CC120347', 2, 'CSD', 'dti_fa_subject'),\n",
       " ('sub-CC120347', 2, 'CSD', 'power_map'),\n",
       " ('sub-CC120347', 2, 'CSD', 'subject_sls'),\n",
       " ('sub-CC121685', 1, 'CSD', 'b0'),\n",
       " ('sub-CC121685', 1, 'CSD', 'dti_fa_subject'),\n",
       " ('sub-CC121685', 1, 'CSD', 'power_map'),\n",
       " ('sub-CC121685', 1, 'CSD', 'subject_sls'),\n",
       " ('sub-CC121685', 2, 'CSD', 'b0'),\n",
       " ('sub-CC121685', 2, 'CSD', 'dti_fa_subject'),\n",
       " ('sub-CC121685', 2, 'CSD', 'power_map'),\n",
       " ('sub-CC121685', 2, 'CSD', 'subject_sls'),\n",
       " ('sub-CC210148', 1, 'CSD', 'b0'),\n",
       " ('sub-CC210148', 1, 'CSD', 'dti_fa_subject'),\n",
       " ('sub-CC210148', 1, 'CSD', 'power_map'),\n",
       " ('sub-CC210148', 1, 'CSD', 'subject_sls'),\n",
       " ('sub-CC210148', 2, 'CSD', 'b0'),\n",
       " ('sub-CC210148', 2, 'CSD', 'dti_fa_subject'),\n",
       " ('sub-CC210148', 2, 'CSD', 'power_map'),\n",
       " ('sub-CC210148', 2, 'CSD', 'subject_sls'),\n",
       " ('sub-CC210422', 1, 'CSD', 'b0'),\n",
       " ('sub-CC210422', 1, 'CSD', 'dti_fa_subject'),\n",
       " ('sub-CC210422', 1, 'CSD', 'power_map'),\n",
       " ('sub-CC210422', 1, 'CSD', 'subject_sls'),\n",
       " ('sub-CC210422', 2, 'CSD', 'b0'),\n",
       " ('sub-CC210422', 2, 'CSD', 'dti_fa_subject'),\n",
       " ('sub-CC210422', 2, 'CSD', 'power_map'),\n",
       " ('sub-CC210422', 2, 'CSD', 'subject_sls')]"
      ]
     },
     "execution_count": 15,
     "metadata": {},
     "output_type": "execute_result"
    }
   ],
   "source": [
    "subjects = [\"sub-CC120347\", \"sub-CC121685\", \"sub-CC210148\", \"sub-CC210422\"]\n",
    "n_seeds = [1, 2]\n",
    "odf_model = [\"CSD\"] #, \"DKI\"]\n",
    "reg_subject = [\"b0\", \"dti_fa_subject\", \"power_map\", \"subject_sls\"]\n",
    "\n",
    "args = list(itertools.product(subjects, n_seeds, odf_model, reg_subject))\n",
    "args"
   ]
  },
  {
   "cell_type": "code",
   "execution_count": 16,
   "metadata": {},
   "outputs": [],
   "source": [
    "ft = afq_knot.map(args, starmap=True)"
   ]
  },
  {
   "cell_type": "code",
   "execution_count": 18,
   "metadata": {},
   "outputs": [
    {
     "name": "stdout",
     "output_type": "stream",
     "text": [
      "Job ID              Name                        Status   \n",
      "---------------------------------------------------------\n",
      "0ab5cfec-96eb-4cbf-9f90-39f65a58c32c        afq-cam-can-arh-20200904-1-0        SUCCEEDED\n"
     ]
    }
   ],
   "source": [
    "ck.set_region('us-west-2')\n",
    "afq_knot.view_jobs()"
   ]
  },
  {
   "cell_type": "code",
   "execution_count": null,
   "metadata": {},
   "outputs": [],
   "source": []
  }
 ],
 "metadata": {
  "kernelspec": {
   "display_name": "Python 3",
   "language": "python",
   "name": "python3"
  },
  "language_info": {
   "codemirror_mode": {
    "name": "ipython",
    "version": 3
   },
   "file_extension": ".py",
   "mimetype": "text/x-python",
   "name": "python",
   "nbconvert_exporter": "python",
   "pygments_lexer": "ipython3",
   "version": "3.7.6"
  }
 },
 "nbformat": 4,
 "nbformat_minor": 4
}
