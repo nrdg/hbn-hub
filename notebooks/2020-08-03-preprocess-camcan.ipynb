{
 "cells": [
  {
   "cell_type": "code",
   "execution_count": 1,
   "metadata": {},
   "outputs": [
    {
     "name": "stderr",
     "output_type": "stream",
     "text": [
      "/Users/richford/miniconda3/envs/cloudknot_qsiprep/lib/python3.7/site-packages/dask/config.py:168: YAMLLoadWarning: calling yaml.load() without Loader=... is deprecated, as the default Loader is unsafe. Please read https://msg.pyyaml.org/load for full details.\n",
      "  data = yaml.load(f.read()) or {}\n",
      "/Users/richford/miniconda3/envs/cloudknot_qsiprep/lib/python3.7/site-packages/dask/dataframe/utils.py:13: FutureWarning: pandas.util.testing is deprecated. Use the functions in the public API at pandas.testing instead.\n",
      "  import pandas.util.testing as tm\n",
      "/Users/richford/miniconda3/envs/cloudknot_qsiprep/lib/python3.7/site-packages/dipy/stats/__init__.py:7: UserWarning: The `dipy.stats` module is still under heavy development and functionality, as well as the API is likely to change in future versions of the software\n",
      "  warnings.warn(w_string)\n",
      "INFO:botocore.credentials:Found credentials in shared credentials file: ~/.aws/credentials\n",
      "INFO:botocore.credentials:Found credentials in shared credentials file: ~/.aws/credentials\n",
      "INFO:botocore.credentials:Found credentials in shared credentials file: ~/.aws/credentials\n",
      "INFO:botocore.credentials:Found credentials in shared credentials file: ~/.aws/credentials\n",
      "INFO:botocore.credentials:Found credentials in shared credentials file: ~/.aws/credentials\n",
      "INFO:botocore.credentials:Found credentials in shared credentials file: ~/.aws/credentials\n",
      "INFO:botocore.credentials:Found credentials in shared credentials file: ~/.aws/credentials\n"
     ]
    }
   ],
   "source": [
    "import AFQ.data as afqd\n",
    "import cloudknot as ck\n",
    "import importlib\n",
    "import s3fs"
   ]
  },
  {
   "cell_type": "code",
   "execution_count": 55,
   "metadata": {},
   "outputs": [
    {
     "name": "stderr",
     "output_type": "stream",
     "text": [
      "/Users/richford/miniconda3/envs/cloudknot_qsiprep/lib/python3.7/site-packages/bids/layout/models.py:102: FutureWarning: The 'extension' entity currently excludes the leading dot ('.'). As of version 0.14.0, it will include the leading dot. To suppress this warning and include the leading dot, use `bids.config.set_option('extension_initial_dot', True)`.\n",
      "  FutureWarning)\n"
     ]
    },
    {
     "name": "stdout",
     "output_type": "stream",
     "text": [
      "Retrieving subject S3 keys\n",
      "[########################################] | 100% Completed |  1min  8.5s\n"
     ]
    }
   ],
   "source": [
    "cc = afqd.S3BIDSStudy(\n",
    "    study_id=\"camcan\",\n",
    "    bucket=\"cam-can.afq-insight\",\n",
    "    s3_prefix=\"raw/cc700/mri/pipeline/release004/BIDS_NRDG/BIDS_NRDG\",\n",
    "    subjects=\"all\",\n",
    "    anon=False,\n",
    ")"
   ]
  },
  {
   "cell_type": "code",
   "execution_count": 56,
   "metadata": {},
   "outputs": [
    {
     "data": {
      "text/plain": [
       "657"
      ]
     },
     "execution_count": 56,
     "metadata": {},
     "output_type": "execute_result"
    }
   ],
   "source": [
    "len(cc.subjects)"
   ]
  },
  {
   "cell_type": "code",
   "execution_count": 45,
   "metadata": {},
   "outputs": [
    {
     "data": {
      "text/plain": [
       "'us-west-2'"
      ]
     },
     "execution_count": 45,
     "metadata": {},
     "output_type": "execute_result"
    }
   ],
   "source": [
    "ck.get_region()"
   ]
  },
  {
   "cell_type": "code",
   "execution_count": 46,
   "metadata": {},
   "outputs": [],
   "source": [
    "ck.set_region('us-west-2')"
   ]
  },
  {
   "cell_type": "code",
   "execution_count": 47,
   "metadata": {},
   "outputs": [],
   "source": [
    "fs = s3fs.S3FileSystem()\n",
    "fs.touch(\"cam-can.afq-insight/raw/cc700/mri/pipeline/release004/BIDS_NRDG/BIDS_NRDG/derivatives/qsiprep-ck/useless_file\")"
   ]
  },
  {
   "cell_type": "markdown",
   "metadata": {},
   "source": [
    "## Define the preprocessing function"
   ]
  },
  {
   "cell_type": "code",
   "execution_count": 48,
   "metadata": {},
   "outputs": [],
   "source": [
    "def preprocess_camcan_subject(subject_id):\n",
    "    import AFQ.data as afqd\n",
    "    import os\n",
    "    import subprocess\n",
    "    import sys\n",
    "    from bids import BIDSLayout\n",
    "    from s3fs import S3FileSystem\n",
    "\n",
    "    cc = afqd.S3BIDSStudy(\n",
    "        study_id=\"camcan\",\n",
    "        bucket=\"cam-can.afq-insight\",\n",
    "        s3_prefix=\"raw/cc700/mri/pipeline/release004/BIDS_NRDG/BIDS_NRDG\",\n",
    "        subjects=subject_id,\n",
    "        anon=False,\n",
    "    )\n",
    "    \n",
    "    cc.download(\"./cam-can\")\n",
    "    fs = S3FileSystem()\n",
    "    \n",
    "    for non_sub_s3_key in cc.non_sub_s3_keys[\"raw\"]:\n",
    "        if \"tmp_dcm2bids\" not in non_sub_s3_key:\n",
    "            fs.get(non_sub_s3_key,\n",
    "                   os.path.join(\"./cam-can\", os.path.basename(non_sub_s3_key)))\n",
    "\n",
    "    response = subprocess.run(\n",
    "        [\n",
    "            \"qsiprep\",\n",
    "            \"--output-resolution\",\n",
    "            \"1.8\",\n",
    "            \"--unringing-method\",\n",
    "            \"mrdegibbs\",\n",
    "            \"--force-spatial-normalization\",\n",
    "            \"--participant-label\",\n",
    "            subject_id,\n",
    "            \"-w\",\n",
    "            \"./cc-wrk\",\n",
    "            \"--nthreads\",\n",
    "            \"8\",\n",
    "            \"--omp-nthreads\",\n",
    "            \"8\",\n",
    "            \"./cam-can\",\n",
    "            \"./cam-can-preproc\",\n",
    "            \"participant\",\n",
    "        ],\n",
    "        check=True\n",
    "    )\n",
    "    \n",
    "    output_dir = \"cam-can.afq-insight/raw/cc700/mri/pipeline/release004/BIDS_NRDG/BIDS_NRDG/derivatives/qsiprep-ck\"            \n",
    "    fs.put(f\"./cam-can-preproc/qsiprep/{subject_id}\",\n",
    "           \"/\".join([output_dir, subject_id]), recursive=True)\n",
    "    fs.put(f\"./cam-can-preproc/qsiprep/{subject_id}.html\",\n",
    "           \"/\".join([output_dir, subject_id + \".html\"]))\n",
    "\n",
    "    return {subject_id: True}"
   ]
  },
  {
   "cell_type": "markdown",
   "metadata": {},
   "source": [
    "# Create a cloudknot DockerImage instance\n",
    "\n",
    "where the base_image is a customized version of qsiprep\n",
    "This version of the qsiprep docker image is located on AWS ECR with image URI:\n",
    "[454929164628.dkr.ecr.us-east-1.amazonaws.com/qsiprep:nrdg](https://console.aws.amazon.com/ecr/repositories/qsiprep/?region=us-east-1)"
   ]
  },
  {
   "cell_type": "code",
   "execution_count": 49,
   "metadata": {},
   "outputs": [
    {
     "name": "stderr",
     "output_type": "stream",
     "text": [
      "WARNING:cloudknot.dockerimage:Warning, some imports not found by pipreqs. You will need to edit the Dockerfile by hand, e.g by installing from github. You need to install the following packages ['AFQ']\n",
      "WARNING:cloudknot.dockerimage:Found docker-image preprocess-camcan-subject in your config file but the input parameters have changed. The updated parameters are ['func']. Continuing with the new input parameters and disregarding any old, potentially conflicting ones.\n",
      "WARNING:cloudknot.dockerimage:Warning, some imports not found by pipreqs. You will need to edit the Dockerfile by hand, e.g by installing from github. You need to install the following packages ['AFQ']\n"
     ]
    }
   ],
   "source": [
    "di = ck.DockerImage(\n",
    "    name=\"preprocess-camcan-subject\",\n",
    "    func=preprocess_camcan_subject,\n",
    "    base_image=\"qsiprep:nrdg\",\n",
    "    github_installs=[\"https://github.com/richford/pyAFQ.git@s3-bids-fetch\",\n",
    "                     \"https://github.com/bids-standard/pybids.git@0.9.3\"],\n",
    "    overwrite=True\n",
    ")"
   ]
  },
  {
   "cell_type": "markdown",
   "metadata": {},
   "source": [
    "## Build, tag, and push the Docker image"
   ]
  },
  {
   "cell_type": "code",
   "execution_count": 50,
   "metadata": {},
   "outputs": [],
   "source": [
    "di.build(tags=[\"camcan-preproc-20200803\"])"
   ]
  },
  {
   "cell_type": "code",
   "execution_count": 51,
   "metadata": {},
   "outputs": [],
   "source": [
    "repo = ck.aws.DockerRepo(name=ck.get_ecr_repo())"
   ]
  },
  {
   "cell_type": "code",
   "execution_count": 52,
   "metadata": {},
   "outputs": [
    {
     "data": {
      "text/plain": [
       "'454929164628.dkr.ecr.us-west-2.amazonaws.com/cloudknot'"
      ]
     },
     "execution_count": 52,
     "metadata": {},
     "output_type": "execute_result"
    }
   ],
   "source": [
    "repo.repo_uri"
   ]
  },
  {
   "cell_type": "code",
   "execution_count": 53,
   "metadata": {},
   "outputs": [],
   "source": [
    "# The very first time you run this, this command could take\n",
    "# a few hours because the docker image is large\n",
    "di.push(repo=repo)"
   ]
  },
  {
   "cell_type": "markdown",
   "metadata": {},
   "source": [
    "## Create the Knot"
   ]
  },
  {
   "cell_type": "code",
   "execution_count": 81,
   "metadata": {},
   "outputs": [
    {
     "ename": "KeyboardInterrupt",
     "evalue": "",
     "output_type": "error",
     "traceback": [
      "\u001b[0;31m---------------------------------------------------------------------------\u001b[0m",
      "\u001b[0;31mKeyboardInterrupt\u001b[0m                         Traceback (most recent call last)",
      "\u001b[0;32m<ipython-input-81-8e6f67257215>\u001b[0m in \u001b[0;36m<module>\u001b[0;34m\u001b[0m\n\u001b[1;32m     20\u001b[0m         ),\n\u001b[1;32m     21\u001b[0m         \u001b[0;34m\"subjects\"\u001b[0m\u001b[0;34m:\u001b[0m \u001b[0mchunk\u001b[0m\u001b[0;34m\u001b[0m\u001b[0;34m\u001b[0m\u001b[0m\n\u001b[0;32m---> 22\u001b[0;31m     } for n, chunk in enumerate(chunks(sub_ids, 33))\n\u001b[0m\u001b[1;32m     23\u001b[0m }\n",
      "\u001b[0;32m<ipython-input-81-8e6f67257215>\u001b[0m in \u001b[0;36m<dictcomp>\u001b[0;34m(.0)\u001b[0m\n\u001b[1;32m     20\u001b[0m         ),\n\u001b[1;32m     21\u001b[0m         \u001b[0;34m\"subjects\"\u001b[0m\u001b[0;34m:\u001b[0m \u001b[0mchunk\u001b[0m\u001b[0;34m\u001b[0m\u001b[0;34m\u001b[0m\u001b[0m\n\u001b[0;32m---> 22\u001b[0;31m     } for n, chunk in enumerate(chunks(sub_ids, 33))\n\u001b[0m\u001b[1;32m     23\u001b[0m }\n",
      "\u001b[0;32m~/projects/cloudknot/cloudknot/cloudknot/cloudknot.py\u001b[0m in \u001b[0;36m__init__\u001b[0;34m(self, name, pars, pars_policies, docker_image, base_image, func, image_script_path, image_work_dir, image_github_installs, username, repo_name, image_tags, job_definition_name, job_def_vcpus, memory, retries, compute_environment_name, instance_types, min_vcpus, max_vcpus, desired_vcpus, volume_size, image_id, ec2_key_pair, bid_percentage, job_queue_name, priority)\u001b[0m\n\u001b[1;32m   1533\u001b[0m             }\n\u001b[1;32m   1534\u001b[0m \u001b[0;34m\u001b[0m\u001b[0m\n\u001b[0;32m-> 1535\u001b[0;31m             \u001b[0mself\u001b[0m\u001b[0;34m.\u001b[0m\u001b[0m_pars\u001b[0m\u001b[0;34m,\u001b[0m \u001b[0mpars_cleanup\u001b[0m \u001b[0;34m=\u001b[0m \u001b[0mfutures\u001b[0m\u001b[0;34m[\u001b[0m\u001b[0;34m\"pars\"\u001b[0m\u001b[0;34m]\u001b[0m\u001b[0;34m.\u001b[0m\u001b[0mresult\u001b[0m\u001b[0;34m(\u001b[0m\u001b[0;34m)\u001b[0m\u001b[0;34m\u001b[0m\u001b[0;34m\u001b[0m\u001b[0m\n\u001b[0m\u001b[1;32m   1536\u001b[0m \u001b[0;34m\u001b[0m\u001b[0m\n\u001b[1;32m   1537\u001b[0m             self._docker_image, self._docker_repo, repo_cleanup = futures[\n",
      "\u001b[0;32m~/miniconda3/envs/cloudknot_qsiprep/lib/python3.7/concurrent/futures/_base.py\u001b[0m in \u001b[0;36mresult\u001b[0;34m(self, timeout)\u001b[0m\n\u001b[1;32m    428\u001b[0m                 \u001b[0;32mreturn\u001b[0m \u001b[0mself\u001b[0m\u001b[0;34m.\u001b[0m\u001b[0m__get_result\u001b[0m\u001b[0;34m(\u001b[0m\u001b[0;34m)\u001b[0m\u001b[0;34m\u001b[0m\u001b[0;34m\u001b[0m\u001b[0m\n\u001b[1;32m    429\u001b[0m \u001b[0;34m\u001b[0m\u001b[0m\n\u001b[0;32m--> 430\u001b[0;31m             \u001b[0mself\u001b[0m\u001b[0;34m.\u001b[0m\u001b[0m_condition\u001b[0m\u001b[0;34m.\u001b[0m\u001b[0mwait\u001b[0m\u001b[0;34m(\u001b[0m\u001b[0mtimeout\u001b[0m\u001b[0;34m)\u001b[0m\u001b[0;34m\u001b[0m\u001b[0;34m\u001b[0m\u001b[0m\n\u001b[0m\u001b[1;32m    431\u001b[0m \u001b[0;34m\u001b[0m\u001b[0m\n\u001b[1;32m    432\u001b[0m             \u001b[0;32mif\u001b[0m \u001b[0mself\u001b[0m\u001b[0;34m.\u001b[0m\u001b[0m_state\u001b[0m \u001b[0;32min\u001b[0m \u001b[0;34m[\u001b[0m\u001b[0mCANCELLED\u001b[0m\u001b[0;34m,\u001b[0m \u001b[0mCANCELLED_AND_NOTIFIED\u001b[0m\u001b[0;34m]\u001b[0m\u001b[0;34m:\u001b[0m\u001b[0;34m\u001b[0m\u001b[0;34m\u001b[0m\u001b[0m\n",
      "\u001b[0;32m~/miniconda3/envs/cloudknot_qsiprep/lib/python3.7/threading.py\u001b[0m in \u001b[0;36mwait\u001b[0;34m(self, timeout)\u001b[0m\n\u001b[1;32m    294\u001b[0m         \u001b[0;32mtry\u001b[0m\u001b[0;34m:\u001b[0m    \u001b[0;31m# restore state no matter what (e.g., KeyboardInterrupt)\u001b[0m\u001b[0;34m\u001b[0m\u001b[0;34m\u001b[0m\u001b[0m\n\u001b[1;32m    295\u001b[0m             \u001b[0;32mif\u001b[0m \u001b[0mtimeout\u001b[0m \u001b[0;32mis\u001b[0m \u001b[0;32mNone\u001b[0m\u001b[0;34m:\u001b[0m\u001b[0;34m\u001b[0m\u001b[0;34m\u001b[0m\u001b[0m\n\u001b[0;32m--> 296\u001b[0;31m                 \u001b[0mwaiter\u001b[0m\u001b[0;34m.\u001b[0m\u001b[0macquire\u001b[0m\u001b[0;34m(\u001b[0m\u001b[0;34m)\u001b[0m\u001b[0;34m\u001b[0m\u001b[0;34m\u001b[0m\u001b[0m\n\u001b[0m\u001b[1;32m    297\u001b[0m                 \u001b[0mgotit\u001b[0m \u001b[0;34m=\u001b[0m \u001b[0;32mTrue\u001b[0m\u001b[0;34m\u001b[0m\u001b[0;34m\u001b[0m\u001b[0m\n\u001b[1;32m    298\u001b[0m             \u001b[0;32melse\u001b[0m\u001b[0;34m:\u001b[0m\u001b[0;34m\u001b[0m\u001b[0;34m\u001b[0m\u001b[0m\n",
      "\u001b[0;31mKeyboardInterrupt\u001b[0m: "
     ]
    }
   ],
   "source": [
    "sub_ids = [s.subject_id for s in cc.subjects]\n",
    "\n",
    "def chunks(lst, n):\n",
    "    \"\"\"Yield successive n-sized chunks from lst.\"\"\"\n",
    "    for i in range(0, len(lst), n):\n",
    "        yield lst[i:i + n]\n",
    "        \n",
    "chunk_knots = {\n",
    "    n: {\n",
    "        # Specify bid_percentage to use Spot instances\n",
    "        # And make sure the volume size is large enough. 50-55 GB seems about right for HBN preprocessing. YMMV.\n",
    "        \"knot\": ck.Knot(\n",
    "            name=f\"cc_preproc_20200804_ch{n}\",\n",
    "            docker_image=di,\n",
    "            pars_policies=(\"AmazonS3FullAccess\", \"AllowCamCanBucketAccess\"),\n",
    "            bid_percentage=100,\n",
    "            memory=64000,\n",
    "            job_def_vcpus=8,\n",
    "            volume_size=55\n",
    "        ),\n",
    "        \"subjects\": chunk\n",
    "    } for n, chunk in enumerate(chunks(sub_ids, 33))\n",
    "}"
   ]
  },
  {
   "cell_type": "markdown",
   "metadata": {},
   "source": [
    "## Submit the jobs and check on results"
   ]
  },
  {
   "cell_type": "code",
   "execution_count": 73,
   "metadata": {},
   "outputs": [],
   "source": [
    "import numpy as np"
   ]
  },
  {
   "cell_type": "code",
   "execution_count": 74,
   "metadata": {},
   "outputs": [],
   "source": [
    "dwi_predict = {\n",
    "    sub.subject_id: any([\"dwi\" in s3key for s3key in sub.s3_keys[\"raw\"]])\n",
    "    for sub in cc.subjects\n",
    "}"
   ]
  },
  {
   "cell_type": "code",
   "execution_count": 77,
   "metadata": {},
   "outputs": [
    {
     "name": "stdout",
     "output_type": "stream",
     "text": [
      "15\n",
      "642\n"
     ]
    }
   ],
   "source": [
    "print(np.sum(np.logical_not(np.array(list(dwi_predict.values())))))\n",
    "print(np.sum(np.array(list(dwi_predict.values()))))"
   ]
  },
  {
   "cell_type": "code",
   "execution_count": 61,
   "metadata": {},
   "outputs": [],
   "source": [
    "for i in chunk_knots.keys():\n",
    "    chunk_knots[i] = {\n",
    "        \"knot\": chunk_knots[i][\"knot\"],\n",
    "        \"subjects\": chunk_knots[i][\"subjects\"],\n",
    "        \"results\": chunk_knots[i][\"knot\"].map(chunk_knots[i][\"subjects\"])\n",
    "    }"
   ]
  },
  {
   "cell_type": "code",
   "execution_count": 80,
   "metadata": {},
   "outputs": [
    {
     "data": {
      "text/plain": [
       "{'STARTING': 0,\n",
       " 'FAILED': 19,\n",
       " 'RUNNING': 0,\n",
       " 'SUCCEEDED': 638,\n",
       " 'RUNNABLE': 0,\n",
       " 'SUBMITTED': 0,\n",
       " 'PENDING': 0}"
      ]
     },
     "execution_count": 80,
     "metadata": {},
     "output_type": "execute_result"
    }
   ],
   "source": [
    "array_props = {key: 0 for key in chunk_knots[0][\"knot\"].jobs[0].status[\"arrayProperties\"][\"statusSummary\"]}\n",
    "for _knot in chunk_knots.values():\n",
    "    for prop in array_props.keys():\n",
    "        array_props[prop] += _knot[\"knot\"].jobs[0].status[\"arrayProperties\"][\"statusSummary\"][prop]\n",
    "        \n",
    "array_props"
   ]
  },
  {
   "cell_type": "markdown",
   "metadata": {},
   "source": [
    "## Results\n",
    "\n",
    "The results are dicts where the keys are the subject IDs and the values report sucess or failure"
   ]
  },
  {
   "cell_type": "code",
   "execution_count": null,
   "metadata": {},
   "outputs": [],
   "source": [
    "result_futures.result()"
   ]
  },
  {
   "cell_type": "markdown",
   "metadata": {},
   "source": [
    "## Figure out how many subjects we have in the entire study to support some cost estimates"
   ]
  },
  {
   "cell_type": "code",
   "execution_count": null,
   "metadata": {},
   "outputs": [],
   "source": [
    "all_sites = {}\n",
    "\n",
    "for site in [\"Site-SI\", \"Site-CBIC\", \"Site-RU\", \"Site-CUNY\"]:\n",
    "    all_sites[site] = afqd.HBNSite(site=site)\n",
    "    print(f\"{site}: {len(all_sites[site]._all_subjects)}\")"
   ]
  },
  {
   "cell_type": "markdown",
   "metadata": {},
   "source": [
    "## When you're done, clobber the knot"
   ]
  },
  {
   "cell_type": "code",
   "execution_count": null,
   "metadata": {},
   "outputs": [],
   "source": [
    "knot.clobber(clobber_pars=True)"
   ]
  },
  {
   "cell_type": "code",
   "execution_count": null,
   "metadata": {},
   "outputs": [],
   "source": []
  }
 ],
 "metadata": {
  "kernelspec": {
   "display_name": "Python 3",
   "language": "python",
   "name": "python3"
  },
  "language_info": {
   "codemirror_mode": {
    "name": "ipython",
    "version": 3
   },
   "file_extension": ".py",
   "mimetype": "text/x-python",
   "name": "python",
   "nbconvert_exporter": "python",
   "pygments_lexer": "ipython3",
   "version": "3.7.6"
  }
 },
 "nbformat": 4,
 "nbformat_minor": 4
}
